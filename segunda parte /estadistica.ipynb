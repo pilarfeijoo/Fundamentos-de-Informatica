{
 "cells": [
  {
   "cell_type": "code",
   "execution_count": 88,
   "metadata": {},
   "outputs": [],
   "source": [
    "import pandas as pd \n",
    "import seaborn as sns\n",
    "import matplotlib.pyplot as plt\n"
   ]
  },
  {
   "cell_type": "code",
   "execution_count": 89,
   "metadata": {},
   "outputs": [
    {
     "data": {
      "text/html": [
       "<div>\n",
       "<style scoped>\n",
       "    .dataframe tbody tr th:only-of-type {\n",
       "        vertical-align: middle;\n",
       "    }\n",
       "\n",
       "    .dataframe tbody tr th {\n",
       "        vertical-align: top;\n",
       "    }\n",
       "\n",
       "    .dataframe thead th {\n",
       "        text-align: right;\n",
       "    }\n",
       "</style>\n",
       "<table border=\"1\" class=\"dataframe\">\n",
       "  <thead>\n",
       "    <tr style=\"text-align: right;\">\n",
       "      <th></th>\n",
       "      <th>Nombres</th>\n",
       "      <th>Mail</th>\n",
       "      <th>Dirección</th>\n",
       "      <th>Sueldo</th>\n",
       "      <th>Altura</th>\n",
       "    </tr>\n",
       "  </thead>\n",
       "  <tbody>\n",
       "    <tr>\n",
       "      <th>0</th>\n",
       "      <td>Darryl</td>\n",
       "      <td>Nullam.vitae.diam@risusMorbimetus.org</td>\n",
       "      <td>P.O. Box 572, 4082 Nunc Av.</td>\n",
       "      <td>76653.0</td>\n",
       "      <td>1.22</td>\n",
       "    </tr>\n",
       "    <tr>\n",
       "      <th>1</th>\n",
       "      <td>Beatrice</td>\n",
       "      <td>Mauris.vestibulum.neque@purusaccumsaninterdum.ca</td>\n",
       "      <td>P.O. Box 710, 7929 Enim Rd.</td>\n",
       "      <td>77846.0</td>\n",
       "      <td>2.03</td>\n",
       "    </tr>\n",
       "    <tr>\n",
       "      <th>2</th>\n",
       "      <td>Diana</td>\n",
       "      <td>lacus.Nulla@eumetusIn.org</td>\n",
       "      <td>5732 Penatibus Road</td>\n",
       "      <td>79301.0</td>\n",
       "      <td>1.41</td>\n",
       "    </tr>\n",
       "    <tr>\n",
       "      <th>3</th>\n",
       "      <td>Justina</td>\n",
       "      <td>vel.convallis.in@sem.co.uk</td>\n",
       "      <td>969-5096 Phasellus Ave</td>\n",
       "      <td>101770.0</td>\n",
       "      <td>2.18</td>\n",
       "    </tr>\n",
       "    <tr>\n",
       "      <th>4</th>\n",
       "      <td>Shana</td>\n",
       "      <td>Proin@Suspendissesagittis.com</td>\n",
       "      <td>4307 Aliquet Ave</td>\n",
       "      <td>73593.0</td>\n",
       "      <td>1.91</td>\n",
       "    </tr>\n",
       "    <tr>\n",
       "      <th>...</th>\n",
       "      <td>...</td>\n",
       "      <td>...</td>\n",
       "      <td>...</td>\n",
       "      <td>...</td>\n",
       "      <td>...</td>\n",
       "    </tr>\n",
       "    <tr>\n",
       "      <th>101</th>\n",
       "      <td>Lacota</td>\n",
       "      <td>lobortis.mauris@posuerecubiliaCurae.net</td>\n",
       "      <td>P.O. Box 794, 6194 Mauris Rd.</td>\n",
       "      <td>103061.0</td>\n",
       "      <td>1.94</td>\n",
       "    </tr>\n",
       "    <tr>\n",
       "      <th>102</th>\n",
       "      <td>Gisela</td>\n",
       "      <td>adipiscing@Sedeu.com</td>\n",
       "      <td>427-5396 Vivamus Av.</td>\n",
       "      <td>56960.0</td>\n",
       "      <td>1.65</td>\n",
       "    </tr>\n",
       "    <tr>\n",
       "      <th>103</th>\n",
       "      <td>Dacey</td>\n",
       "      <td>Class@mienim.edu</td>\n",
       "      <td>Ap #485-3637 Justo Avenue</td>\n",
       "      <td>124130.0</td>\n",
       "      <td>1.43</td>\n",
       "    </tr>\n",
       "    <tr>\n",
       "      <th>104</th>\n",
       "      <td>Whitney</td>\n",
       "      <td>dui@semegetmassa.edu</td>\n",
       "      <td>8836 Donec Av.</td>\n",
       "      <td>70261.0</td>\n",
       "      <td>1.35</td>\n",
       "    </tr>\n",
       "    <tr>\n",
       "      <th>105</th>\n",
       "      <td>Aiko</td>\n",
       "      <td>lacinia@sedpedenec.co.uk</td>\n",
       "      <td>P.O. Box 263, 3970 Consequat St.</td>\n",
       "      <td>108380.0</td>\n",
       "      <td>1.31</td>\n",
       "    </tr>\n",
       "  </tbody>\n",
       "</table>\n",
       "<p>106 rows × 5 columns</p>\n",
       "</div>"
      ],
      "text/plain": [
       "      Nombres                                              Mail  \\\n",
       "0      Darryl             Nullam.vitae.diam@risusMorbimetus.org   \n",
       "1    Beatrice  Mauris.vestibulum.neque@purusaccumsaninterdum.ca   \n",
       "2       Diana                         lacus.Nulla@eumetusIn.org   \n",
       "3     Justina                        vel.convallis.in@sem.co.uk   \n",
       "4       Shana                     Proin@Suspendissesagittis.com   \n",
       "..        ...                                               ...   \n",
       "101    Lacota           lobortis.mauris@posuerecubiliaCurae.net   \n",
       "102    Gisela                              adipiscing@Sedeu.com   \n",
       "103     Dacey                                  Class@mienim.edu   \n",
       "104   Whitney                              dui@semegetmassa.edu   \n",
       "105      Aiko                          lacinia@sedpedenec.co.uk   \n",
       "\n",
       "                            Dirección    Sueldo  Altura  \n",
       "0         P.O. Box 572, 4082 Nunc Av.   76653.0    1.22  \n",
       "1         P.O. Box 710, 7929 Enim Rd.   77846.0    2.03  \n",
       "2                 5732 Penatibus Road   79301.0    1.41  \n",
       "3              969-5096 Phasellus Ave  101770.0    2.18  \n",
       "4                    4307 Aliquet Ave   73593.0    1.91  \n",
       "..                                ...       ...     ...  \n",
       "101     P.O. Box 794, 6194 Mauris Rd.  103061.0    1.94  \n",
       "102              427-5396 Vivamus Av.   56960.0    1.65  \n",
       "103         Ap #485-3637 Justo Avenue  124130.0    1.43  \n",
       "104                    8836 Donec Av.   70261.0    1.35  \n",
       "105  P.O. Box 263, 3970 Consequat St.  108380.0    1.31  \n",
       "\n",
       "[106 rows x 5 columns]"
      ]
     },
     "execution_count": 89,
     "metadata": {},
     "output_type": "execute_result"
    }
   ],
   "source": [
    "datos = pd.read_csv (\"/Users/pilarfeijoo/Desktop/fundamentos de informatica/Fundamentos-de-Informatica/tablas de datos/Datos(1).csv\", sep=\",\")\n",
    "datos\n"
   ]
  },
  {
   "cell_type": "code",
   "execution_count": 90,
   "metadata": {},
   "outputs": [
    {
     "data": {
      "text/html": [
       "<div>\n",
       "<style scoped>\n",
       "    .dataframe tbody tr th:only-of-type {\n",
       "        vertical-align: middle;\n",
       "    }\n",
       "\n",
       "    .dataframe tbody tr th {\n",
       "        vertical-align: top;\n",
       "    }\n",
       "\n",
       "    .dataframe thead th {\n",
       "        text-align: right;\n",
       "    }\n",
       "</style>\n",
       "<table border=\"1\" class=\"dataframe\">\n",
       "  <thead>\n",
       "    <tr style=\"text-align: right;\">\n",
       "      <th></th>\n",
       "      <th>Sueldo</th>\n",
       "      <th>Altura</th>\n",
       "    </tr>\n",
       "  </thead>\n",
       "  <tbody>\n",
       "    <tr>\n",
       "      <th>count</th>\n",
       "      <td>103.000000</td>\n",
       "      <td>104.000000</td>\n",
       "    </tr>\n",
       "    <tr>\n",
       "      <th>mean</th>\n",
       "      <td>97675.067961</td>\n",
       "      <td>1.942596</td>\n",
       "    </tr>\n",
       "    <tr>\n",
       "      <th>std</th>\n",
       "      <td>48315.130888</td>\n",
       "      <td>1.557438</td>\n",
       "    </tr>\n",
       "    <tr>\n",
       "      <th>min</th>\n",
       "      <td>51582.000000</td>\n",
       "      <td>1.120000</td>\n",
       "    </tr>\n",
       "    <tr>\n",
       "      <th>25%</th>\n",
       "      <td>72589.500000</td>\n",
       "      <td>1.570000</td>\n",
       "    </tr>\n",
       "    <tr>\n",
       "      <th>50%</th>\n",
       "      <td>97933.000000</td>\n",
       "      <td>1.745000</td>\n",
       "    </tr>\n",
       "    <tr>\n",
       "      <th>75%</th>\n",
       "      <td>114400.000000</td>\n",
       "      <td>1.940000</td>\n",
       "    </tr>\n",
       "    <tr>\n",
       "      <th>max</th>\n",
       "      <td>520083.000000</td>\n",
       "      <td>13.730000</td>\n",
       "    </tr>\n",
       "  </tbody>\n",
       "</table>\n",
       "</div>"
      ],
      "text/plain": [
       "              Sueldo      Altura\n",
       "count     103.000000  104.000000\n",
       "mean    97675.067961    1.942596\n",
       "std     48315.130888    1.557438\n",
       "min     51582.000000    1.120000\n",
       "25%     72589.500000    1.570000\n",
       "50%     97933.000000    1.745000\n",
       "75%    114400.000000    1.940000\n",
       "max    520083.000000   13.730000"
      ]
     },
     "execution_count": 90,
     "metadata": {},
     "output_type": "execute_result"
    }
   ],
   "source": [
    "\n",
    "datos.describe()"
   ]
  },
  {
   "cell_type": "code",
   "execution_count": 91,
   "metadata": {},
   "outputs": [
    {
     "data": {
      "text/plain": [
       "Sueldo    97933.000\n",
       "Altura        1.745\n",
       "dtype: float64"
      ]
     },
     "execution_count": 91,
     "metadata": {},
     "output_type": "execute_result"
    }
   ],
   "source": [
    "\n",
    "datos.median()"
   ]
  },
  {
   "cell_type": "code",
   "execution_count": 92,
   "metadata": {},
   "outputs": [
    {
     "data": {
      "text/html": [
       "<div>\n",
       "<style scoped>\n",
       "    .dataframe tbody tr th:only-of-type {\n",
       "        vertical-align: middle;\n",
       "    }\n",
       "\n",
       "    .dataframe tbody tr th {\n",
       "        vertical-align: top;\n",
       "    }\n",
       "\n",
       "    .dataframe thead th {\n",
       "        text-align: right;\n",
       "    }\n",
       "</style>\n",
       "<table border=\"1\" class=\"dataframe\">\n",
       "  <thead>\n",
       "    <tr style=\"text-align: right;\">\n",
       "      <th></th>\n",
       "      <th>Nombres</th>\n",
       "      <th>Mail</th>\n",
       "      <th>Dirección</th>\n",
       "      <th>Sueldo</th>\n",
       "      <th>Altura</th>\n",
       "    </tr>\n",
       "  </thead>\n",
       "  <tbody>\n",
       "    <tr>\n",
       "      <th>0</th>\n",
       "      <td>Aiko</td>\n",
       "      <td>Integer.urna@aliquet.co.uk</td>\n",
       "      <td>1176 Aliquet Road</td>\n",
       "      <td>56417.0</td>\n",
       "      <td>1.81</td>\n",
       "    </tr>\n",
       "    <tr>\n",
       "      <th>1</th>\n",
       "      <td>Laurel</td>\n",
       "      <td>Proin.sed@dolor.edu</td>\n",
       "      <td>Ap #216-3332 Natoque St.</td>\n",
       "      <td>61408.0</td>\n",
       "      <td>NaN</td>\n",
       "    </tr>\n",
       "    <tr>\n",
       "      <th>2</th>\n",
       "      <td>NaN</td>\n",
       "      <td>amet@consectetueradipiscing.co.uk</td>\n",
       "      <td>Ap #348-1550 Sodales Rd.</td>\n",
       "      <td>84240.0</td>\n",
       "      <td>NaN</td>\n",
       "    </tr>\n",
       "    <tr>\n",
       "      <th>3</th>\n",
       "      <td>NaN</td>\n",
       "      <td>et@Aliquam.edu</td>\n",
       "      <td>P.O. Box 328, 1973 Tortor Av.</td>\n",
       "      <td>90343.0</td>\n",
       "      <td>NaN</td>\n",
       "    </tr>\n",
       "    <tr>\n",
       "      <th>4</th>\n",
       "      <td>NaN</td>\n",
       "      <td>lorem@sem.ca</td>\n",
       "      <td>P.O. Box 845, 9495 Sodales Rd.</td>\n",
       "      <td>125047.0</td>\n",
       "      <td>NaN</td>\n",
       "    </tr>\n",
       "    <tr>\n",
       "      <th>5</th>\n",
       "      <td>NaN</td>\n",
       "      <td>nibh.enim.gravida@vitaerisus.net</td>\n",
       "      <td>P.O. Box 934, 2815 Imperdiet Rd.</td>\n",
       "      <td>NaN</td>\n",
       "      <td>NaN</td>\n",
       "    </tr>\n",
       "  </tbody>\n",
       "</table>\n",
       "</div>"
      ],
      "text/plain": [
       "  Nombres                               Mail  \\\n",
       "0    Aiko         Integer.urna@aliquet.co.uk   \n",
       "1  Laurel                Proin.sed@dolor.edu   \n",
       "2     NaN  amet@consectetueradipiscing.co.uk   \n",
       "3     NaN                     et@Aliquam.edu   \n",
       "4     NaN                       lorem@sem.ca   \n",
       "5     NaN   nibh.enim.gravida@vitaerisus.net   \n",
       "\n",
       "                          Dirección    Sueldo  Altura  \n",
       "0                 1176 Aliquet Road   56417.0    1.81  \n",
       "1          Ap #216-3332 Natoque St.   61408.0     NaN  \n",
       "2          Ap #348-1550 Sodales Rd.   84240.0     NaN  \n",
       "3     P.O. Box 328, 1973 Tortor Av.   90343.0     NaN  \n",
       "4    P.O. Box 845, 9495 Sodales Rd.  125047.0     NaN  \n",
       "5  P.O. Box 934, 2815 Imperdiet Rd.       NaN     NaN  "
      ]
     },
     "execution_count": 92,
     "metadata": {},
     "output_type": "execute_result"
    }
   ],
   "source": [
    "datos.mode()"
   ]
  },
  {
   "cell_type": "code",
   "execution_count": 93,
   "metadata": {},
   "outputs": [
    {
     "data": {
      "text/plain": [
       "<AxesSubplot:xlabel='Sueldo', ylabel='Altura'>"
      ]
     },
     "execution_count": 93,
     "metadata": {},
     "output_type": "execute_result"
    },
    {
     "data": {
      "image/png": "[encoded data removed]",
      "text/plain": [
       "<Figure size 720x360 with 1 Axes>"
      ]
     },
     "metadata": {
      "needs_background": "light"
     },
     "output_type": "display_data"
    }
   ],
   "source": [
    "datos.plot.scatter(x='Sueldo', y='Altura', figsize = (10, 5))"
   ]
  },
  {
   "cell_type": "code",
   "execution_count": 94,
   "metadata": {},
   "outputs": [
    {
     "data": {
      "text/html": [
       "<div>\n",
       "<style scoped>\n",
       "    .dataframe tbody tr th:only-of-type {\n",
       "        vertical-align: middle;\n",
       "    }\n",
       "\n",
       "    .dataframe tbody tr th {\n",
       "        vertical-align: top;\n",
       "    }\n",
       "\n",
       "    .dataframe thead th {\n",
       "        text-align: right;\n",
       "    }\n",
       "</style>\n",
       "<table border=\"1\" class=\"dataframe\">\n",
       "  <thead>\n",
       "    <tr style=\"text-align: right;\">\n",
       "      <th></th>\n",
       "      <th>Nombres</th>\n",
       "      <th>Mail</th>\n",
       "      <th>Dirección</th>\n",
       "      <th>Sueldo</th>\n",
       "      <th>Altura</th>\n",
       "    </tr>\n",
       "  </thead>\n",
       "  <tbody>\n",
       "    <tr>\n",
       "      <th>0</th>\n",
       "      <td>Darryl</td>\n",
       "      <td>Nullam.vitae.diam@risusMorbimetus.org</td>\n",
       "      <td>P.O. Box 572, 4082 Nunc Av.</td>\n",
       "      <td>76653.0</td>\n",
       "      <td>1.22</td>\n",
       "    </tr>\n",
       "    <tr>\n",
       "      <th>1</th>\n",
       "      <td>Beatrice</td>\n",
       "      <td>Mauris.vestibulum.neque@purusaccumsaninterdum.ca</td>\n",
       "      <td>P.O. Box 710, 7929 Enim Rd.</td>\n",
       "      <td>77846.0</td>\n",
       "      <td>2.03</td>\n",
       "    </tr>\n",
       "    <tr>\n",
       "      <th>2</th>\n",
       "      <td>Diana</td>\n",
       "      <td>lacus.Nulla@eumetusIn.org</td>\n",
       "      <td>5732 Penatibus Road</td>\n",
       "      <td>79301.0</td>\n",
       "      <td>1.41</td>\n",
       "    </tr>\n",
       "    <tr>\n",
       "      <th>3</th>\n",
       "      <td>Justina</td>\n",
       "      <td>vel.convallis.in@sem.co.uk</td>\n",
       "      <td>969-5096 Phasellus Ave</td>\n",
       "      <td>101770.0</td>\n",
       "      <td>2.18</td>\n",
       "    </tr>\n",
       "    <tr>\n",
       "      <th>4</th>\n",
       "      <td>Shana</td>\n",
       "      <td>Proin@Suspendissesagittis.com</td>\n",
       "      <td>4307 Aliquet Ave</td>\n",
       "      <td>73593.0</td>\n",
       "      <td>1.91</td>\n",
       "    </tr>\n",
       "    <tr>\n",
       "      <th>...</th>\n",
       "      <td>...</td>\n",
       "      <td>...</td>\n",
       "      <td>...</td>\n",
       "      <td>...</td>\n",
       "      <td>...</td>\n",
       "    </tr>\n",
       "    <tr>\n",
       "      <th>101</th>\n",
       "      <td>Lacota</td>\n",
       "      <td>lobortis.mauris@posuerecubiliaCurae.net</td>\n",
       "      <td>P.O. Box 794, 6194 Mauris Rd.</td>\n",
       "      <td>103061.0</td>\n",
       "      <td>1.94</td>\n",
       "    </tr>\n",
       "    <tr>\n",
       "      <th>102</th>\n",
       "      <td>Gisela</td>\n",
       "      <td>adipiscing@Sedeu.com</td>\n",
       "      <td>427-5396 Vivamus Av.</td>\n",
       "      <td>56960.0</td>\n",
       "      <td>1.65</td>\n",
       "    </tr>\n",
       "    <tr>\n",
       "      <th>103</th>\n",
       "      <td>Dacey</td>\n",
       "      <td>Class@mienim.edu</td>\n",
       "      <td>Ap #485-3637 Justo Avenue</td>\n",
       "      <td>124130.0</td>\n",
       "      <td>1.43</td>\n",
       "    </tr>\n",
       "    <tr>\n",
       "      <th>104</th>\n",
       "      <td>Whitney</td>\n",
       "      <td>dui@semegetmassa.edu</td>\n",
       "      <td>8836 Donec Av.</td>\n",
       "      <td>70261.0</td>\n",
       "      <td>1.35</td>\n",
       "    </tr>\n",
       "    <tr>\n",
       "      <th>105</th>\n",
       "      <td>Aiko</td>\n",
       "      <td>lacinia@sedpedenec.co.uk</td>\n",
       "      <td>P.O. Box 263, 3970 Consequat St.</td>\n",
       "      <td>108380.0</td>\n",
       "      <td>1.31</td>\n",
       "    </tr>\n",
       "  </tbody>\n",
       "</table>\n",
       "<p>98 rows × 5 columns</p>\n",
       "</div>"
      ],
      "text/plain": [
       "      Nombres                                              Mail  \\\n",
       "0      Darryl             Nullam.vitae.diam@risusMorbimetus.org   \n",
       "1    Beatrice  Mauris.vestibulum.neque@purusaccumsaninterdum.ca   \n",
       "2       Diana                         lacus.Nulla@eumetusIn.org   \n",
       "3     Justina                        vel.convallis.in@sem.co.uk   \n",
       "4       Shana                     Proin@Suspendissesagittis.com   \n",
       "..        ...                                               ...   \n",
       "101    Lacota           lobortis.mauris@posuerecubiliaCurae.net   \n",
       "102    Gisela                              adipiscing@Sedeu.com   \n",
       "103     Dacey                                  Class@mienim.edu   \n",
       "104   Whitney                              dui@semegetmassa.edu   \n",
       "105      Aiko                          lacinia@sedpedenec.co.uk   \n",
       "\n",
       "                            Dirección    Sueldo  Altura  \n",
       "0         P.O. Box 572, 4082 Nunc Av.   76653.0    1.22  \n",
       "1         P.O. Box 710, 7929 Enim Rd.   77846.0    2.03  \n",
       "2                 5732 Penatibus Road   79301.0    1.41  \n",
       "3              969-5096 Phasellus Ave  101770.0    2.18  \n",
       "4                    4307 Aliquet Ave   73593.0    1.91  \n",
       "..                                ...       ...     ...  \n",
       "101     P.O. Box 794, 6194 Mauris Rd.  103061.0    1.94  \n",
       "102              427-5396 Vivamus Av.   56960.0    1.65  \n",
       "103         Ap #485-3637 Justo Avenue  124130.0    1.43  \n",
       "104                    8836 Donec Av.   70261.0    1.35  \n",
       "105  P.O. Box 263, 3970 Consequat St.  108380.0    1.31  \n",
       "\n",
       "[98 rows x 5 columns]"
      ]
     },
     "execution_count": 94,
     "metadata": {},
     "output_type": "execute_result"
    }
   ],
   "source": [
    "datos = datos[(datos.Sueldo < 200000) & (datos.Altura < 10)]\n",
    "datos"
   ]
  },
  {
   "cell_type": "code",
   "execution_count": 95,
   "metadata": {},
   "outputs": [
    {
     "data": {
      "text/plain": [
       "<AxesSubplot:xlabel='Sueldo', ylabel='Altura'>"
      ]
     },
     "execution_count": 95,
     "metadata": {},
     "output_type": "execute_result"
    },
    {
     "data": {
      "image/png": "[encoded data removed]",
      "text/plain": [
       "<Figure size 720x360 with 1 Axes>"
      ]
     },
     "metadata": {
      "needs_background": "light"
     },
     "output_type": "display_data"
    }
   ],
   "source": [
    "datos.plot.scatter(x='Sueldo', y='Altura', figsize = (10, 5))"
   ]
  },
  {
   "cell_type": "code",
   "execution_count": 96,
   "metadata": {},
   "outputs": [
    {
     "name": "stdout",
     "output_type": "stream",
     "text": [
      "<class 'pandas.core.frame.DataFrame'>\n",
      "Int64Index: 98 entries, 0 to 105\n",
      "Data columns (total 5 columns):\n",
      " #   Column     Non-Null Count  Dtype  \n",
      "---  ------     --------------  -----  \n",
      " 0   Nombres    98 non-null     object \n",
      " 1   Mail       98 non-null     object \n",
      " 2   Dirección  98 non-null     object \n",
      " 3   Sueldo     98 non-null     float64\n",
      " 4   Altura     98 non-null     float64\n",
      "dtypes: float64(2), object(3)\n",
      "memory usage: 4.6+ KB\n"
     ]
    }
   ],
   "source": [
    "datos.info()\n"
   ]
  },
  {
   "cell_type": "code",
   "execution_count": 97,
   "metadata": {},
   "outputs": [
    {
     "data": {
      "text/html": [
       "<div>\n",
       "<style scoped>\n",
       "    .dataframe tbody tr th:only-of-type {\n",
       "        vertical-align: middle;\n",
       "    }\n",
       "\n",
       "    .dataframe tbody tr th {\n",
       "        vertical-align: top;\n",
       "    }\n",
       "\n",
       "    .dataframe thead th {\n",
       "        text-align: right;\n",
       "    }\n",
       "</style>\n",
       "<table border=\"1\" class=\"dataframe\">\n",
       "  <thead>\n",
       "    <tr style=\"text-align: right;\">\n",
       "      <th></th>\n",
       "      <th>Sueldo</th>\n",
       "      <th>Altura</th>\n",
       "    </tr>\n",
       "  </thead>\n",
       "  <tbody>\n",
       "    <tr>\n",
       "      <th>count</th>\n",
       "      <td>98.000000</td>\n",
       "      <td>98.000000</td>\n",
       "    </tr>\n",
       "    <tr>\n",
       "      <th>mean</th>\n",
       "      <td>93542.734694</td>\n",
       "      <td>1.730612</td>\n",
       "    </tr>\n",
       "    <tr>\n",
       "      <th>std</th>\n",
       "      <td>24061.826685</td>\n",
       "      <td>0.277937</td>\n",
       "    </tr>\n",
       "    <tr>\n",
       "      <th>min</th>\n",
       "      <td>51582.000000</td>\n",
       "      <td>1.120000</td>\n",
       "    </tr>\n",
       "    <tr>\n",
       "      <th>25%</th>\n",
       "      <td>72087.750000</td>\n",
       "      <td>1.532500</td>\n",
       "    </tr>\n",
       "    <tr>\n",
       "      <th>50%</th>\n",
       "      <td>97288.000000</td>\n",
       "      <td>1.745000</td>\n",
       "    </tr>\n",
       "    <tr>\n",
       "      <th>75%</th>\n",
       "      <td>113970.750000</td>\n",
       "      <td>1.937500</td>\n",
       "    </tr>\n",
       "    <tr>\n",
       "      <th>max</th>\n",
       "      <td>134917.000000</td>\n",
       "      <td>2.350000</td>\n",
       "    </tr>\n",
       "  </tbody>\n",
       "</table>\n",
       "</div>"
      ],
      "text/plain": [
       "              Sueldo     Altura\n",
       "count      98.000000  98.000000\n",
       "mean    93542.734694   1.730612\n",
       "std     24061.826685   0.277937\n",
       "min     51582.000000   1.120000\n",
       "25%     72087.750000   1.532500\n",
       "50%     97288.000000   1.745000\n",
       "75%    113970.750000   1.937500\n",
       "max    134917.000000   2.350000"
      ]
     },
     "execution_count": 97,
     "metadata": {},
     "output_type": "execute_result"
    }
   ],
   "source": [
    "datos[[\"Sueldo\",\"Altura\"]].describe()"
   ]
  },
  {
   "cell_type": "code",
   "execution_count": 98,
   "metadata": {},
   "outputs": [
    {
     "data": {
      "text/plain": [
       "Sueldo    97288.000\n",
       "Altura        1.745\n",
       "dtype: float64"
      ]
     },
     "execution_count": 98,
     "metadata": {},
     "output_type": "execute_result"
    }
   ],
   "source": [
    "datos[[\"Sueldo\",\"Altura\"]].median()"
   ]
  },
  {
   "cell_type": "code",
   "execution_count": 99,
   "metadata": {},
   "outputs": [
    {
     "data": {
      "text/plain": [
       "0     56417.0\n",
       "1     84240.0\n",
       "2     90343.0\n",
       "3    125047.0\n",
       "dtype: float64"
      ]
     },
     "execution_count": 99,
     "metadata": {},
     "output_type": "execute_result"
    }
   ],
   "source": [
    "datos[\"Sueldo\"].mode()"
   ]
  },
  {
   "cell_type": "code",
   "execution_count": 100,
   "metadata": {},
   "outputs": [
    {
     "data": {
      "text/plain": [
       "0    1.81\n",
       "dtype: float64"
      ]
     },
     "execution_count": 100,
     "metadata": {},
     "output_type": "execute_result"
    }
   ],
   "source": [
    "datos[\"Altura\"].mode()"
   ]
  },
  {
   "cell_type": "code",
   "execution_count": 101,
   "metadata": {},
   "outputs": [
    {
     "data": {
      "text/plain": [
       "<AxesSubplot:xlabel='Altura', ylabel='Count'>"
      ]
     },
     "execution_count": 101,
     "metadata": {},
     "output_type": "execute_result"
    },
    {
     "data": {
      "image/png": "[encoded data removed]",
      "text/plain": [
       "<Figure size 432x288 with 1 Axes>"
      ]
     },
     "metadata": {
      "needs_background": "light"
     },
     "output_type": "display_data"
    }
   ],
   "source": [
    "\n",
    "sns.histplot(data = datos, x = \"Altura\", binwidth=0.25, kde = True)"
   ]
  },
  {
   "cell_type": "code",
   "execution_count": 102,
   "metadata": {},
   "outputs": [
    {
     "data": {
      "text/plain": [
       "<AxesSubplot:xlabel='Sueldo', ylabel='Count'>"
      ]
     },
     "execution_count": 102,
     "metadata": {},
     "output_type": "execute_result"
    },
    {
     "data": {
      "image/png": "[encoded data removed]",
      "text/plain": [
       "<Figure size 432x288 with 1 Axes>"
      ]
     },
     "metadata": {
      "needs_background": "light"
     },
     "output_type": "display_data"
    }
   ],
   "source": [
    "import seaborn as sns\n",
    "sns.histplot(data = datos, x = \"Sueldo\", kde = True)"
   ]
  },
  {
   "cell_type": "code",
   "execution_count": 103,
   "metadata": {},
   "outputs": [
    {
     "data": {
      "text/html": [
       "<div>\n",
       "<style scoped>\n",
       "    .dataframe tbody tr th:only-of-type {\n",
       "        vertical-align: middle;\n",
       "    }\n",
       "\n",
       "    .dataframe tbody tr th {\n",
       "        vertical-align: top;\n",
       "    }\n",
       "\n",
       "    .dataframe thead th {\n",
       "        text-align: right;\n",
       "    }\n",
       "</style>\n",
       "<table border=\"1\" class=\"dataframe\">\n",
       "  <thead>\n",
       "    <tr style=\"text-align: right;\">\n",
       "      <th></th>\n",
       "      <th>Mail</th>\n",
       "      <th>Dirección</th>\n",
       "      <th>Sueldo</th>\n",
       "      <th>Altura</th>\n",
       "    </tr>\n",
       "    <tr>\n",
       "      <th>Nombres</th>\n",
       "      <th></th>\n",
       "      <th></th>\n",
       "      <th></th>\n",
       "      <th></th>\n",
       "    </tr>\n",
       "  </thead>\n",
       "  <tbody>\n",
       "    <tr>\n",
       "      <th>Darryl</th>\n",
       "      <td>Nullam.vitae.diam@risusMorbimetus.org</td>\n",
       "      <td>P.O. Box 572, 4082 Nunc Av.</td>\n",
       "      <td>76653.0</td>\n",
       "      <td>1.22</td>\n",
       "    </tr>\n",
       "    <tr>\n",
       "      <th>Beatrice</th>\n",
       "      <td>Mauris.vestibulum.neque@purusaccumsaninterdum.ca</td>\n",
       "      <td>P.O. Box 710, 7929 Enim Rd.</td>\n",
       "      <td>77846.0</td>\n",
       "      <td>2.03</td>\n",
       "    </tr>\n",
       "    <tr>\n",
       "      <th>Diana</th>\n",
       "      <td>lacus.Nulla@eumetusIn.org</td>\n",
       "      <td>5732 Penatibus Road</td>\n",
       "      <td>79301.0</td>\n",
       "      <td>1.41</td>\n",
       "    </tr>\n",
       "    <tr>\n",
       "      <th>Justina</th>\n",
       "      <td>vel.convallis.in@sem.co.uk</td>\n",
       "      <td>969-5096 Phasellus Ave</td>\n",
       "      <td>101770.0</td>\n",
       "      <td>2.18</td>\n",
       "    </tr>\n",
       "    <tr>\n",
       "      <th>Shana</th>\n",
       "      <td>Proin@Suspendissesagittis.com</td>\n",
       "      <td>4307 Aliquet Ave</td>\n",
       "      <td>73593.0</td>\n",
       "      <td>1.91</td>\n",
       "    </tr>\n",
       "    <tr>\n",
       "      <th>...</th>\n",
       "      <td>...</td>\n",
       "      <td>...</td>\n",
       "      <td>...</td>\n",
       "      <td>...</td>\n",
       "    </tr>\n",
       "    <tr>\n",
       "      <th>Lacota</th>\n",
       "      <td>lobortis.mauris@posuerecubiliaCurae.net</td>\n",
       "      <td>P.O. Box 794, 6194 Mauris Rd.</td>\n",
       "      <td>103061.0</td>\n",
       "      <td>1.94</td>\n",
       "    </tr>\n",
       "    <tr>\n",
       "      <th>Gisela</th>\n",
       "      <td>adipiscing@Sedeu.com</td>\n",
       "      <td>427-5396 Vivamus Av.</td>\n",
       "      <td>56960.0</td>\n",
       "      <td>1.65</td>\n",
       "    </tr>\n",
       "    <tr>\n",
       "      <th>Dacey</th>\n",
       "      <td>Class@mienim.edu</td>\n",
       "      <td>Ap #485-3637 Justo Avenue</td>\n",
       "      <td>124130.0</td>\n",
       "      <td>1.43</td>\n",
       "    </tr>\n",
       "    <tr>\n",
       "      <th>Whitney</th>\n",
       "      <td>dui@semegetmassa.edu</td>\n",
       "      <td>8836 Donec Av.</td>\n",
       "      <td>70261.0</td>\n",
       "      <td>1.35</td>\n",
       "    </tr>\n",
       "    <tr>\n",
       "      <th>Aiko</th>\n",
       "      <td>lacinia@sedpedenec.co.uk</td>\n",
       "      <td>P.O. Box 263, 3970 Consequat St.</td>\n",
       "      <td>108380.0</td>\n",
       "      <td>1.31</td>\n",
       "    </tr>\n",
       "  </tbody>\n",
       "</table>\n",
       "<p>98 rows × 4 columns</p>\n",
       "</div>"
      ],
      "text/plain": [
       "                                                      Mail  \\\n",
       "Nombres                                                      \n",
       "Darryl               Nullam.vitae.diam@risusMorbimetus.org   \n",
       "Beatrice  Mauris.vestibulum.neque@purusaccumsaninterdum.ca   \n",
       "Diana                            lacus.Nulla@eumetusIn.org   \n",
       "Justina                         vel.convallis.in@sem.co.uk   \n",
       "Shana                        Proin@Suspendissesagittis.com   \n",
       "...                                                    ...   \n",
       "Lacota             lobortis.mauris@posuerecubiliaCurae.net   \n",
       "Gisela                                adipiscing@Sedeu.com   \n",
       "Dacey                                     Class@mienim.edu   \n",
       "Whitney                               dui@semegetmassa.edu   \n",
       "Aiko                              lacinia@sedpedenec.co.uk   \n",
       "\n",
       "                                 Dirección    Sueldo  Altura  \n",
       "Nombres                                                       \n",
       "Darryl         P.O. Box 572, 4082 Nunc Av.   76653.0    1.22  \n",
       "Beatrice       P.O. Box 710, 7929 Enim Rd.   77846.0    2.03  \n",
       "Diana                  5732 Penatibus Road   79301.0    1.41  \n",
       "Justina             969-5096 Phasellus Ave  101770.0    2.18  \n",
       "Shana                     4307 Aliquet Ave   73593.0    1.91  \n",
       "...                                    ...       ...     ...  \n",
       "Lacota       P.O. Box 794, 6194 Mauris Rd.  103061.0    1.94  \n",
       "Gisela                427-5396 Vivamus Av.   56960.0    1.65  \n",
       "Dacey            Ap #485-3637 Justo Avenue  124130.0    1.43  \n",
       "Whitney                     8836 Donec Av.   70261.0    1.35  \n",
       "Aiko      P.O. Box 263, 3970 Consequat St.  108380.0    1.31  \n",
       "\n",
       "[98 rows x 4 columns]"
      ]
     },
     "execution_count": 103,
     "metadata": {},
     "output_type": "execute_result"
    }
   ],
   "source": [
    "datos2 = datos.set_index('Nombres')\n",
    "datos2"
   ]
  },
  {
   "cell_type": "code",
   "execution_count": 104,
   "metadata": {},
   "outputs": [
    {
     "data": {
      "text/plain": [
       "'Skyler'"
      ]
     },
     "execution_count": 104,
     "metadata": {},
     "output_type": "execute_result"
    }
   ],
   "source": [
    "datos2.Sueldo.idxmax() "
   ]
  },
  {
   "cell_type": "code",
   "execution_count": 105,
   "metadata": {},
   "outputs": [
    {
     "data": {
      "text/plain": [
       "'Shelby'"
      ]
     },
     "execution_count": 105,
     "metadata": {},
     "output_type": "execute_result"
    }
   ],
   "source": [
    "datos2.Sueldo.idxmin() "
   ]
  },
  {
   "cell_type": "code",
   "execution_count": null,
   "metadata": {},
   "outputs": [],
   "source": [
    "datos2.Altura.idxmax()"
   ]
  },
  {
   "cell_type": "code",
   "execution_count": null,
   "metadata": {},
   "outputs": [],
   "source": [
    "datos2.Altura.idxmin()"
   ]
  },
  {
   "cell_type": "code",
   "execution_count": null,
   "metadata": {},
   "outputs": [],
   "source": []
  }
 ],
 "metadata": {
  "interpreter": {
   "hash": "7812ea015bdcee6f23a998adcdd2ef97c151c0c241b7b7070987d9313e41299d"
  },
  "kernelspec": {
   "display_name": "Python 3.9.2 64-bit ('3.9')",
   "name": "python3"
  },
  "language_info": {
   "codemirror_mode": {
    "name": "ipython",
    "version": 3
   },
   "file_extension": ".py",
   "mimetype": "text/x-python",
   "name": "python",
   "nbconvert_exporter": "python",
   "pygments_lexer": "ipython3",
   "version": "3.9.2"
  },
  "orig_nbformat": 4
 },
 "nbformat": 4,
 "nbformat_minor": 2
}
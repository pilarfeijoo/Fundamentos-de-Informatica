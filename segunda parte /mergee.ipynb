{
 "metadata": {
  "language_info": {
   "codemirror_mode": {
    "name": "ipython",
    "version": 3
   },
   "file_extension": ".py",
   "mimetype": "text/x-python",
   "name": "python",
   "nbconvert_exporter": "python",
   "pygments_lexer": "ipython3",
   "version": "3.9.2"
  },
  "orig_nbformat": 2,
  "kernelspec": {
   "name": "python3",
   "display_name": "Python 3.9.2 64-bit ('3.9')"
  },
  "interpreter": {
   "hash": "7812ea015bdcee6f23a998adcdd2ef97c151c0c241b7b7070987d9313e41299d"
  }
 },
 "nbformat": 4,
 "nbformat_minor": 2,
 "cells": [
  {
   "cell_type": "code",
   "execution_count": 1,
   "metadata": {},
   "outputs": [],
   "source": [
    "import pandas as pd"
   ]
  },
  {
   "cell_type": "code",
   "execution_count": 2,
   "metadata": {},
   "outputs": [
    {
     "output_type": "execute_result",
     "data": {
      "text/plain": [
       "Index(['categoria_conicet_id', 'categoria_conicet_descripcion'], dtype='object')"
      ]
     },
     "metadata": {},
     "execution_count": 2
    }
   ],
   "source": [
    "\n",
    "personas_categoria = pd.read_csv(\"/Users/pilarfeijoo/Desktop/fundamentos de informatica/Fundamentos-de-Informatica/tablas de datos/ref_categoria_conicet (1).csv\", sep=\";\")\n",
    "personas_categoria.columns"
   ]
  },
  {
   "cell_type": "code",
   "execution_count": 3,
   "metadata": {},
   "outputs": [
    {
     "output_type": "error",
     "ename": "NameError",
     "evalue": "name 'personas' is not defined",
     "traceback": [
      "\u001b[0;31m---------------------------------------------------------------------------\u001b[0m",
      "\u001b[0;31mNameError\u001b[0m                                 Traceback (most recent call last)",
      "\u001b[0;32m<ipython-input-3-730a3dd9a301>\u001b[0m in \u001b[0;36m<module>\u001b[0;34m\u001b[0m\n\u001b[0;32m----> 1\u001b[0;31m \u001b[0mpers\u001b[0m \u001b[0;34m=\u001b[0m \u001b[0mpd\u001b[0m\u001b[0;34m.\u001b[0m\u001b[0mconcat\u001b[0m\u001b[0;34m(\u001b[0m\u001b[0;34m[\u001b[0m\u001b[0mpersonas\u001b[0m\u001b[0;34m[\u001b[0m\u001b[0;34m\"persona_id\"\u001b[0m\u001b[0;34m]\u001b[0m\u001b[0;34m,\u001b[0m \u001b[0mpersonas\u001b[0m\u001b[0;34m[\u001b[0m\u001b[0;34m\"anio\"\u001b[0m\u001b[0;34m]\u001b[0m\u001b[0;34m,\u001b[0m \u001b[0mpersonas\u001b[0m\u001b[0;34m[\u001b[0m\u001b[0;34m\"categoria_conicet_id\"\u001b[0m\u001b[0;34m]\u001b[0m\u001b[0;34m]\u001b[0m\u001b[0;34m,\u001b[0m \u001b[0maxis\u001b[0m\u001b[0;34m=\u001b[0m\u001b[0;36m1\u001b[0m\u001b[0;34m)\u001b[0m\u001b[0;34m\u001b[0m\u001b[0;34m\u001b[0m\u001b[0m\n\u001b[0m\u001b[1;32m      2\u001b[0m \u001b[0mpers\u001b[0m\u001b[0;34m\u001b[0m\u001b[0;34m\u001b[0m\u001b[0m\n",
      "\u001b[0;31mNameError\u001b[0m: name 'personas' is not defined"
     ]
    }
   ],
   "source": [
    "pers = pd.concat([personas[\"persona_id\"], personas[\"anio\"], personas[\"categoria_conicet_id\"]], axis=1)\n",
    "pers"
   ]
  },
  {
   "cell_type": "code",
   "execution_count": 8,
   "metadata": {},
   "outputs": [
    {
     "output_type": "execute_result",
     "data": {
      "text/plain": [
       "Index(['persona_id', 'anio', 'sexo_id', 'edad', 'maximo_grado_academico_id',\n",
       "       'disciplina_maximo_grado_academico_id', 'disciplina_titulo_grado_id',\n",
       "       'disciplina_experticia_id', 'tipo_personal_id', 'producciones_ult_anio',\n",
       "       'producciones_ult_2_anios', 'producciones_ult_3_anios',\n",
       "       'producciones_ult_4_anios', 'institucion_trabajo_id', 'seniority_level',\n",
       "       'categoria_conicet_id', 'categoria_incentivos',\n",
       "       'max_dedicacion_horaria_docente_id', 'institucion_cargo_docente_id',\n",
       "       'clase_cargo_docente_id', 'tipo_condicion_docente_id'],\n",
       "      dtype='object')"
      ]
     },
     "metadata": {},
     "execution_count": 8
    }
   ],
   "source": [
    "import pandas as pd\n",
    "personas = pd.read_csv(\"/Users/pilarfeijoo/Desktop/fundamentos de informatica/Fundamentos-de-Informatica/tablas de datos/personas_2011.csv\", sep=\";\")\n",
    "personas.columns"
   ]
  },
  {
   "cell_type": "code",
   "execution_count": 9,
   "metadata": {},
   "outputs": [
    {
     "output_type": "execute_result",
     "data": {
      "text/plain": [
       "Index(['persona_id', 'anio', 'sexo_id', 'edad', 'maximo_grado_academico_id',\n",
       "       'disciplina_maximo_grado_academico_id', 'disciplina_titulo_grado_id',\n",
       "       'disciplina_experticia_id', 'tipo_personal_id', 'producciones_ult_anio',\n",
       "       'producciones_ult_2_anios', 'producciones_ult_3_anios',\n",
       "       'producciones_ult_4_anios', 'institucion_trabajo_id', 'seniority_level',\n",
       "       'categoria_conicet_id', 'categoria_incentivos',\n",
       "       'max_dedicacion_horaria_docente_id', 'institucion_cargo_docente_id',\n",
       "       'clase_cargo_docente_id', 'tipo_condicion_docente_id',\n",
       "       'categoria_conicet_descripcion'],\n",
       "      dtype='object')"
      ]
     },
     "metadata": {},
     "execution_count": 9
    }
   ],
   "source": [
    "personas_merge = personas.merge(personas_categoria, on='categoria_conicet_id')\n",
    "personas_merge.columns"
   ]
  },
  {
   "cell_type": "code",
   "execution_count": 10,
   "metadata": {},
   "outputs": [
    {
     "output_type": "execute_result",
     "data": {
      "text/plain": [
       "Index(['clase_cargo_id', 'tipo_cargo_descripcion', 'grupo_cargo_descripcion',\n",
       "       'clase_cargo_descripcion', 'equivalencia_cargo_docente_descripcion'],\n",
       "      dtype='object')"
      ]
     },
     "metadata": {},
     "execution_count": 10
    }
   ],
   "source": [
    "cargo = pd.read_csv(\"/Users/pilarfeijoo/Desktop/fundamentos de informatica/Fundamentos-de-Informatica/tablas de datos/ref_clase_cargo.csv\", sep=\";\")\n",
    "cargo.columns"
   ]
  },
  {
   "cell_type": "code",
   "execution_count": 11,
   "metadata": {},
   "outputs": [
    {
     "output_type": "execute_result",
     "data": {
      "text/plain": [
       "Index(['persona_id', 'anio', 'sexo_id', 'edad', 'maximo_grado_academico_id',\n",
       "       'disciplina_maximo_grado_academico_id', 'disciplina_titulo_grado_id',\n",
       "       'disciplina_experticia_id', 'tipo_personal_id', 'producciones_ult_anio',\n",
       "       'producciones_ult_2_anios', 'producciones_ult_3_anios',\n",
       "       'producciones_ult_4_anios', 'institucion_trabajo_id', 'seniority_level',\n",
       "       'categoria_conicet_id', 'categoria_incentivos',\n",
       "       'max_dedicacion_horaria_docente_id', 'institucion_cargo_docente_id',\n",
       "       'clase_cargo_id', 'tipo_condicion_docente_id',\n",
       "       'categoria_conicet_descripcion'],\n",
       "      dtype='object')"
      ]
     },
     "metadata": {},
     "execution_count": 11
    }
   ],
   "source": [
    "\n",
    "personas_merge = personas_merge.rename(columns={\"clase_cargo_docente_id\":\"clase_cargo_id\"})\n",
    "personas_merge.columns"
   ]
  },
  {
   "cell_type": "code",
   "execution_count": 12,
   "metadata": {},
   "outputs": [
    {
     "output_type": "execute_result",
     "data": {
      "text/plain": [
       "Index(['disciplina_id', 'gran_area_codigo', 'gran_area_descripcion',\n",
       "       'area_codigo', 'area_descripcion', 'disciplina_codigo',\n",
       "       'disciplina_descripcion'],\n",
       "      dtype='object')"
      ]
     },
     "metadata": {},
     "execution_count": 12
    }
   ],
   "source": [
    "disciplina = pd.read_csv(\"/Users/pilarfeijoo/Desktop/fundamentos de informatica/Fundamentos-de-Informatica/tablas de datos/ref_disciplina.csv\", sep=\";\")\n",
    "disciplina.columns"
   ]
  },
  {
   "cell_type": "code",
   "execution_count": 13,
   "metadata": {},
   "outputs": [
    {
     "output_type": "execute_result",
     "data": {
      "text/plain": [
       "Index(['persona_id', 'anio', 'sexo_id', 'edad', 'maximo_grado_academico_id',\n",
       "       'disciplina_maximo_grado_academico_id', 'disciplina_titulo_grado_id',\n",
       "       'disciplina_experticia_id', 'tipo_personal_id', 'producciones_ult_anio',\n",
       "       'producciones_ult_2_anios', 'producciones_ult_3_anios',\n",
       "       'producciones_ult_4_anios', 'institucion_trabajo_id', 'seniority_level',\n",
       "       'categoria_conicet_id', 'categoria_incentivos',\n",
       "       'max_dedicacion_horaria_docente_id', 'institucion_cargo_docente_id',\n",
       "       'clase_cargo_id', 'tipo_condicion_docente_id',\n",
       "       'categoria_conicet_descripcion'],\n",
       "      dtype='object')"
      ]
     },
     "metadata": {},
     "execution_count": 13
    }
   ],
   "source": [
    "\n",
    "personas_merge.columns"
   ]
  },
  {
   "cell_type": "code",
   "execution_count": 14,
   "metadata": {},
   "outputs": [
    {
     "output_type": "execute_result",
     "data": {
      "text/plain": [
       "array([ -1,   1,   2,   3,   4,   5,   6,   7,   8,   9,  10,  11,  12,\n",
       "        13,  14,  15,  16,  17,  18,  19,  20,  21,  22,  23,  24,  25,\n",
       "        26,  27,  28,  29,  30,  31,  32,  33,  34,  35,  36,  37,  38,\n",
       "        39,  40,  41,  42,  43,  44,  45,  46,  47,  48,  49,  50,  51,\n",
       "        52,  53,  54,  55,  56,  57,  58,  59,  60,  61,  62,  63,  64,\n",
       "        65,  66,  67,  68,  69,  70,  71,  72,  73,  74,  75,  76,  77,\n",
       "        78,  79,  80,  81,  82,  83,  84,  85,  86,  87,  88,  89,  90,\n",
       "        91,  92,  93,  94,  95,  96,  97,  98,  99, 100, 101, 102, 103,\n",
       "       104, 105, 106, 107, 108, 109, 110, 111, 112, 113, 114, 115, 116,\n",
       "       117, 118, 119, 120, 121, 122, 123, 124, 125, 126, 127, 128, 129,\n",
       "       130, 131, 132, 133, 134, 135, 136, 137, 138, 139, 140, 141, 142,\n",
       "       143, 144, 145, 146, 147, 148, 149, 150, 151, 152, 153, 154, 155,\n",
       "       156, 157, 158, 159, 160, 161, 162, 163, 164, 165, 166, 167, 168,\n",
       "       169, 170, 171, 172, 173, 174, 175, 176, 177, 178, 179, 180, 181,\n",
       "       182, 183, 184, 185, 186, 187, 188, 189, 190, 191, 192, 193, 194,\n",
       "       195, 196, 197, 198, 199, 200, 201, 202, 203, 204, 205, 206, 207,\n",
       "       208, 209, 210, 211, 212, 213, 214, 215, 216, 217, 218, 219, 220,\n",
       "       221, 222, 223, 224, 225, 226, 227, 228, 229, 230, 231, 232, 233,\n",
       "       234, 235, 236, 237, 238, 239, 240, 241, 242, 243, 244, 245, 246,\n",
       "       247, 248, 249, 250, 251, 252, 253, 254, 255, 256, 257, 258, 259,\n",
       "       260, 261, 262, 263, 264, 265, 266, 267, 268, 269, 270, 271, 272,\n",
       "       273, 274, 275, 276, 277, 278, 279, 280, 281, 282, 283, 284, 285,\n",
       "       286, 287, 288])"
      ]
     },
     "metadata": {},
     "execution_count": 14
    }
   ],
   "source": [
    "pd.unique(disciplina.disciplina_id)"
   ]
  },
  {
   "cell_type": "code",
   "execution_count": 15,
   "metadata": {},
   "outputs": [
    {
     "output_type": "execute_result",
     "data": {
      "text/plain": [
       "array([ -1, 255, 111, 248, 203,  57, 192, 258, 199,  40,  65, 256,  34,\n",
       "       206, 251, 207,  11,  38,  43, 220,  48,  20,   3, 214, 107, 234,\n",
       "        99, 254,  14,   7,  35, 188, 277, 157, 282, 208, 250, 223,  61,\n",
       "       271, 197,  22, 243, 259,  12,  45,  42, 285,  32, 200,  17, 237,\n",
       "        46,  84, 201,  23, 233, 281, 186,  13, 108,  74, 221, 252, 287,\n",
       "       284, 249,  10,  19, 229, 174,  53, 204,   1, 216,  76,  64, 210,\n",
       "       176, 238, 257,  47,  67, 193,   5, 194, 120, 278, 286, 227,  60,\n",
       "       219, 100, 147, 275,  58, 195, 106, 144, 280,  62,  29, 109, 209,\n",
       "       181, 134, 119, 211,   6, 173, 179, 288, 235, 213,  59, 279, 187,\n",
       "       262,  36,   9,  18, 224, 153, 161, 196, 244, 236, 246, 242, 123,\n",
       "         2,  55, 230,  26, 247,  52, 150, 226, 166, 113, 228, 260,  24,\n",
       "         8,  69, 154, 155, 222, 114,  75, 225, 171, 264, 263, 202, 198,\n",
       "         4, 112, 205,  31, 266, 165, 117, 116, 175, 253, 231,  71, 218,\n",
       "       191,  95, 232, 261, 180,  49,  51,  15, 184, 182, 274, 183, 177,\n",
       "        37, 101, 276,  27, 265,  63, 283,  41, 239,  28, 268,  98,  16,\n",
       "        66, 160, 272, 168,  39,  94,  50,  44,  78, 158, 148,  68,  87,\n",
       "       215, 269,  33, 118, 105,  56,  54, 145,  96,  80, 273, 151, 270,\n",
       "        85, 126, 241, 137, 142, 124,  21,  30, 159,  77, 138,  25, 167,\n",
       "        90,  72,  70,  79,  91, 189, 103, 132, 267,  88,  81, 172, 169,\n",
       "       139, 110, 122, 129, 152, 128, 245,  97, 143, 164, 136, 240, 131,\n",
       "       141, 178,  89, 135,  86, 127,  82, 162, 156, 130, 170, 140, 121,\n",
       "       212, 217, 146, 133, 125, 115, 149,  83])"
      ]
     },
     "metadata": {},
     "execution_count": 15
    }
   ],
   "source": [
    "pd.unique(personas.disciplina_titulo_grado_id)"
   ]
  },
  {
   "cell_type": "code",
   "execution_count": 16,
   "metadata": {},
   "outputs": [
    {
     "output_type": "execute_result",
     "data": {
      "text/plain": [
       "Index(['persona_id', 'anio', 'sexo_id', 'edad', 'maximo_grado_academico_id',\n",
       "       'disciplina_maximo_grado_academico_id', 'disciplina_id',\n",
       "       'disciplina_experticia_id', 'tipo_personal_id', 'producciones_ult_anio',\n",
       "       'producciones_ult_2_anios', 'producciones_ult_3_anios',\n",
       "       'producciones_ult_4_anios', 'institucion_trabajo_id', 'seniority_level',\n",
       "       'categoria_conicet_id', 'categoria_incentivos',\n",
       "       'max_dedicacion_horaria_docente_id', 'institucion_cargo_docente_id',\n",
       "       'clase_cargo_id', 'tipo_condicion_docente_id',\n",
       "       'categoria_conicet_descripcion'],\n",
       "      dtype='object')"
      ]
     },
     "metadata": {},
     "execution_count": 16
    }
   ],
   "source": [
    "personas_merge = personas_merge.rename(columns={\"disciplina_titulo_grado_id\":\"disciplina_id\"})\n",
    "personas_merge.columns"
   ]
  },
  {
   "cell_type": "code",
   "execution_count": 17,
   "metadata": {},
   "outputs": [
    {
     "output_type": "execute_result",
     "data": {
      "text/plain": [
       "Index(['grado_academico_id', 'descripcion'], dtype='object')"
      ]
     },
     "metadata": {},
     "execution_count": 17
    }
   ],
   "source": [
    "grado_academico = pd.read_csv(\"/Users/pilarfeijoo/Desktop/fundamentos de informatica/Fundamentos-de-Informatica/tablas de datos/ref_grado_academico.csv\", sep=\";\")\n",
    "grado_academico.columns"
   ]
  },
  {
   "cell_type": "code",
   "execution_count": 29,
   "metadata": {},
   "outputs": [
    {
     "output_type": "execute_result",
     "data": {
      "text/plain": [
       "       persona_id  anio  sexo_id  edad  grado_academico_id  \\\n",
       "0               1  2011        2    36                  -1   \n",
       "1             263  2011        2    31                  -1   \n",
       "2             694  2011        1    27                  -1   \n",
       "3             698  2011        1    24                  -1   \n",
       "4             826  2011        2    23                  -1   \n",
       "...           ...   ...      ...   ...                 ...   \n",
       "48635      180969  2011        2    24                   7   \n",
       "48636      182174  2011        2    23                   7   \n",
       "48637      182266  2011        1    35                   7   \n",
       "48638       22342  2011        2    58                   7   \n",
       "48639       29126  2011        2    41                   7   \n",
       "\n",
       "       disciplina_maximo_grado_academico_id  disciplina_id  \\\n",
       "0                                        -1             -1   \n",
       "1                                        -1             -1   \n",
       "2                                        -1             -1   \n",
       "3                                        -1             -1   \n",
       "4                                        -1             -1   \n",
       "...                                     ...            ...   \n",
       "48635                                    -1             -1   \n",
       "48636                                    -1             -1   \n",
       "48637                                    -1             -1   \n",
       "48638                                    -1             -1   \n",
       "48639                                    -1             -1   \n",
       "\n",
       "       disciplina_experticia_id  tipo_personal_id  producciones_ult_anio  ...  \\\n",
       "0                            64                 4                      0  ...   \n",
       "1                             3                 4                      0  ...   \n",
       "2                           252                 4                      2  ...   \n",
       "3                           252                 4                     -1  ...   \n",
       "4                           285                 4                      0  ...   \n",
       "...                         ...               ...                    ...  ...   \n",
       "48635                        56                 4                      0  ...   \n",
       "48636                       221                 4                      0  ...   \n",
       "48637                       231                 4                      0  ...   \n",
       "48638                       262                 4                      1  ...   \n",
       "48639                       227                 3                      3  ...   \n",
       "\n",
       "       institucion_trabajo_id  seniority_level  categoria_conicet_id  \\\n",
       "0                        4488                                   -1.0   \n",
       "1                        5390                                   -1.0   \n",
       "2                        8902                                   -1.0   \n",
       "3                        4192                                   -1.0   \n",
       "4                        4192                                   -1.0   \n",
       "...                       ...              ...                   ...   \n",
       "48635                     116                                   -1.0   \n",
       "48636                   16103                                   -1.0   \n",
       "48637                     444                                   -1.0   \n",
       "48638                     889                                    8.0   \n",
       "48639                    8383              S/D                   8.0   \n",
       "\n",
       "       categoria_incentivos max_dedicacion_horaria_docente_id  \\\n",
       "0                      -1.0                               3.0   \n",
       "1                      -1.0                               3.0   \n",
       "2                      -1.0                               3.0   \n",
       "3                      -1.0                               3.0   \n",
       "4                      -1.0                               3.0   \n",
       "...                     ...                               ...   \n",
       "48635                  -1.0                               3.0   \n",
       "48636                  -1.0                               3.0   \n",
       "48637                  -1.0                               3.0   \n",
       "48638                  -1.0                               3.0   \n",
       "48639                  -1.0                               3.0   \n",
       "\n",
       "       institucion_cargo_docente_id  clase_cargo_id  \\\n",
       "0                             116.0            22.0   \n",
       "1                            6338.0            45.0   \n",
       "2                            1123.0            70.0   \n",
       "3                            1780.0            33.0   \n",
       "4                            1780.0            50.0   \n",
       "...                             ...             ...   \n",
       "48635                         116.0            22.0   \n",
       "48636                         368.0            41.0   \n",
       "48637                         444.0            22.0   \n",
       "48638                        3689.0            20.0   \n",
       "48639                         231.0            40.0   \n",
       "\n",
       "       tipo_condicion_docente_id  categoria_conicet_descripcion  descripcion  \n",
       "0                            1.0         No pertenece a Conicet    Sin datos  \n",
       "1                            2.0         No pertenece a Conicet    Sin datos  \n",
       "2                            2.0         No pertenece a Conicet    Sin datos  \n",
       "3                            3.0         No pertenece a Conicet    Sin datos  \n",
       "4                            3.0         No pertenece a Conicet    Sin datos  \n",
       "...                          ...                            ...          ...  \n",
       "48635                        2.0         No pertenece a Conicet        Medio  \n",
       "48636                        1.0         No pertenece a Conicet        Medio  \n",
       "48637                        1.0         No pertenece a Conicet        Medio  \n",
       "48638                        2.0              Personal de apoyo        Medio  \n",
       "48639                        1.0              Personal de apoyo        Medio  \n",
       "\n",
       "[48640 rows x 23 columns]"
      ],
      "text/html": "<div>\n<style scoped>\n    .dataframe tbody tr th:only-of-type {\n        vertical-align: middle;\n    }\n\n    .dataframe tbody tr th {\n        vertical-align: top;\n    }\n\n    .dataframe thead th {\n        text-align: right;\n    }\n</style>\n<table border=\"1\" class=\"dataframe\">\n  <thead>\n    <tr style=\"text-align: right;\">\n      <th></th>\n      <th>persona_id</th>\n      <th>anio</th>\n      <th>sexo_id</th>\n      <th>edad</th>\n      <th>grado_academico_id</th>\n      <th>disciplina_maximo_grado_academico_id</th>\n      <th>disciplina_id</th>\n      <th>disciplina_experticia_id</th>\n      <th>tipo_personal_id</th>\n      <th>producciones_ult_anio</th>\n      <th>...</th>\n      <th>institucion_trabajo_id</th>\n      <th>seniority_level</th>\n      <th>categoria_conicet_id</th>\n      <th>categoria_incentivos</th>\n      <th>max_dedicacion_horaria_docente_id</th>\n      <th>institucion_cargo_docente_id</th>\n      <th>clase_cargo_id</th>\n      <th>tipo_condicion_docente_id</th>\n      <th>categoria_conicet_descripcion</th>\n      <th>descripcion</th>\n    </tr>\n  </thead>\n  <tbody>\n    <tr>\n      <th>0</th>\n      <td>1</td>\n      <td>2011</td>\n      <td>2</td>\n      <td>36</td>\n      <td>-1</td>\n      <td>-1</td>\n      <td>-1</td>\n      <td>64</td>\n      <td>4</td>\n      <td>0</td>\n      <td>...</td>\n      <td>4488</td>\n      <td></td>\n      <td>-1.0</td>\n      <td>-1.0</td>\n      <td>3.0</td>\n      <td>116.0</td>\n      <td>22.0</td>\n      <td>1.0</td>\n      <td>No pertenece a Conicet</td>\n      <td>Sin datos</td>\n    </tr>\n    <tr>\n      <th>1</th>\n      <td>263</td>\n      <td>2011</td>\n      <td>2</td>\n      <td>31</td>\n      <td>-1</td>\n      <td>-1</td>\n      <td>-1</td>\n      <td>3</td>\n      <td>4</td>\n      <td>0</td>\n      <td>...</td>\n      <td>5390</td>\n      <td></td>\n      <td>-1.0</td>\n      <td>-1.0</td>\n      <td>3.0</td>\n      <td>6338.0</td>\n      <td>45.0</td>\n      <td>2.0</td>\n      <td>No pertenece a Conicet</td>\n      <td>Sin datos</td>\n    </tr>\n    <tr>\n      <th>2</th>\n      <td>694</td>\n      <td>2011</td>\n      <td>1</td>\n      <td>27</td>\n      <td>-1</td>\n      <td>-1</td>\n      <td>-1</td>\n      <td>252</td>\n      <td>4</td>\n      <td>2</td>\n      <td>...</td>\n      <td>8902</td>\n      <td></td>\n      <td>-1.0</td>\n      <td>-1.0</td>\n      <td>3.0</td>\n      <td>1123.0</td>\n      <td>70.0</td>\n      <td>2.0</td>\n      <td>No pertenece a Conicet</td>\n      <td>Sin datos</td>\n    </tr>\n    <tr>\n      <th>3</th>\n      <td>698</td>\n      <td>2011</td>\n      <td>1</td>\n      <td>24</td>\n      <td>-1</td>\n      <td>-1</td>\n      <td>-1</td>\n      <td>252</td>\n      <td>4</td>\n      <td>-1</td>\n      <td>...</td>\n      <td>4192</td>\n      <td></td>\n      <td>-1.0</td>\n      <td>-1.0</td>\n      <td>3.0</td>\n      <td>1780.0</td>\n      <td>33.0</td>\n      <td>3.0</td>\n      <td>No pertenece a Conicet</td>\n      <td>Sin datos</td>\n    </tr>\n    <tr>\n      <th>4</th>\n      <td>826</td>\n      <td>2011</td>\n      <td>2</td>\n      <td>23</td>\n      <td>-1</td>\n      <td>-1</td>\n      <td>-1</td>\n      <td>285</td>\n      <td>4</td>\n      <td>0</td>\n      <td>...</td>\n      <td>4192</td>\n      <td></td>\n      <td>-1.0</td>\n      <td>-1.0</td>\n      <td>3.0</td>\n      <td>1780.0</td>\n      <td>50.0</td>\n      <td>3.0</td>\n      <td>No pertenece a Conicet</td>\n      <td>Sin datos</td>\n    </tr>\n    <tr>\n      <th>...</th>\n      <td>...</td>\n      <td>...</td>\n      <td>...</td>\n      <td>...</td>\n      <td>...</td>\n      <td>...</td>\n      <td>...</td>\n      <td>...</td>\n      <td>...</td>\n      <td>...</td>\n      <td>...</td>\n      <td>...</td>\n      <td>...</td>\n      <td>...</td>\n      <td>...</td>\n      <td>...</td>\n      <td>...</td>\n      <td>...</td>\n      <td>...</td>\n      <td>...</td>\n      <td>...</td>\n    </tr>\n    <tr>\n      <th>48635</th>\n      <td>180969</td>\n      <td>2011</td>\n      <td>2</td>\n      <td>24</td>\n      <td>7</td>\n      <td>-1</td>\n      <td>-1</td>\n      <td>56</td>\n      <td>4</td>\n      <td>0</td>\n      <td>...</td>\n      <td>116</td>\n      <td></td>\n      <td>-1.0</td>\n      <td>-1.0</td>\n      <td>3.0</td>\n      <td>116.0</td>\n      <td>22.0</td>\n      <td>2.0</td>\n      <td>No pertenece a Conicet</td>\n      <td>Medio</td>\n    </tr>\n    <tr>\n      <th>48636</th>\n      <td>182174</td>\n      <td>2011</td>\n      <td>2</td>\n      <td>23</td>\n      <td>7</td>\n      <td>-1</td>\n      <td>-1</td>\n      <td>221</td>\n      <td>4</td>\n      <td>0</td>\n      <td>...</td>\n      <td>16103</td>\n      <td></td>\n      <td>-1.0</td>\n      <td>-1.0</td>\n      <td>3.0</td>\n      <td>368.0</td>\n      <td>41.0</td>\n      <td>1.0</td>\n      <td>No pertenece a Conicet</td>\n      <td>Medio</td>\n    </tr>\n    <tr>\n      <th>48637</th>\n      <td>182266</td>\n      <td>2011</td>\n      <td>1</td>\n      <td>35</td>\n      <td>7</td>\n      <td>-1</td>\n      <td>-1</td>\n      <td>231</td>\n      <td>4</td>\n      <td>0</td>\n      <td>...</td>\n      <td>444</td>\n      <td></td>\n      <td>-1.0</td>\n      <td>-1.0</td>\n      <td>3.0</td>\n      <td>444.0</td>\n      <td>22.0</td>\n      <td>1.0</td>\n      <td>No pertenece a Conicet</td>\n      <td>Medio</td>\n    </tr>\n    <tr>\n      <th>48638</th>\n      <td>22342</td>\n      <td>2011</td>\n      <td>2</td>\n      <td>58</td>\n      <td>7</td>\n      <td>-1</td>\n      <td>-1</td>\n      <td>262</td>\n      <td>4</td>\n      <td>1</td>\n      <td>...</td>\n      <td>889</td>\n      <td></td>\n      <td>8.0</td>\n      <td>-1.0</td>\n      <td>3.0</td>\n      <td>3689.0</td>\n      <td>20.0</td>\n      <td>2.0</td>\n      <td>Personal de apoyo</td>\n      <td>Medio</td>\n    </tr>\n    <tr>\n      <th>48639</th>\n      <td>29126</td>\n      <td>2011</td>\n      <td>2</td>\n      <td>41</td>\n      <td>7</td>\n      <td>-1</td>\n      <td>-1</td>\n      <td>227</td>\n      <td>3</td>\n      <td>3</td>\n      <td>...</td>\n      <td>8383</td>\n      <td>S/D</td>\n      <td>8.0</td>\n      <td>-1.0</td>\n      <td>3.0</td>\n      <td>231.0</td>\n      <td>40.0</td>\n      <td>1.0</td>\n      <td>Personal de apoyo</td>\n      <td>Medio</td>\n    </tr>\n  </tbody>\n</table>\n<p>48640 rows × 23 columns</p>\n</div>"
     },
     "metadata": {},
     "execution_count": 29
    }
   ],
   "source": [
    "personas_merge = personas_merge.rename(columns={\"maximo_grado_academico_id\":\"grado_academico_id\"})\n",
    "personas_merge = personas_merge.merge(grado_academico, on=\"grado_academico_id\")\n",
    "personas_merge"
   ]
  },
  {
   "cell_type": "code",
   "execution_count": 18,
   "metadata": {},
   "outputs": [
    {
     "output_type": "execute_result",
     "data": {
      "text/plain": [
       "Index(['sexo_id', 'sexo_descripcion'], dtype='object')"
      ]
     },
     "metadata": {},
     "execution_count": 18
    }
   ],
   "source": [
    "sexo= pd.read_csv(\"/Users/pilarfeijoo/Desktop/fundamentos de informatica/Fundamentos-de-Informatica/tablas de datos/ref_sexo.csv\", sep=\";\")\n",
    "sexo.columns"
   ]
  },
  {
   "cell_type": "code",
   "execution_count": 37,
   "metadata": {},
   "outputs": [
    {
     "output_type": "execute_result",
     "data": {
      "text/plain": [
       "Index(['persona_id', 'anio', 'sexo_id', 'edad', 'grado_academico_id',\n",
       "       'disciplina_maximo_grado_academico_id', 'disciplina_id',\n",
       "       'disciplina_experticia_id', 'tipo_personal_id', 'producciones_ult_anio',\n",
       "       'producciones_ult_2_anios', 'producciones_ult_3_anios',\n",
       "       'producciones_ult_4_anios', 'institucion_trabajo_id', 'seniority_level',\n",
       "       'categoria_conicet_id', 'categoria_incentivos',\n",
       "       'tipo_dedicacion_horaria_semanal_id', 'institucion_cargo_docente_id',\n",
       "       'clase_cargo_id', 'tipo_condicion_docente_id',\n",
       "       'categoria_conicet_descripcion', 'descripcion',\n",
       "       'tipo_dedicacion_horaria_semanal_descripcion', 'sexo_descripcion'],\n",
       "      dtype='object')"
      ]
     },
     "metadata": {},
     "execution_count": 37
    }
   ],
   "source": [
    "\n",
    "personas_merge = personas_merge.merge(sexo, on='sexo_id')\n",
    "personas_merge.columns"
   ]
  },
  {
   "cell_type": "code",
   "execution_count": 19,
   "metadata": {},
   "outputs": [
    {
     "output_type": "execute_result",
     "data": {
      "text/plain": [
       "Index(['tipo_dedicacion_horaria_semanal_id', 'tipo_dedicacion_horaria_semanal_descripcion'], dtype='object')"
      ]
     },
     "metadata": {},
     "execution_count": 19
    }
   ],
   "source": [
    "horario = pd.read_csv(\"/Users/pilarfeijoo/Desktop/fundamentos de informatica/Fundamentos-de-Informatica/tablas de datos/ref_tipo_dedicacion_horaria_semanal.csv\", sep=\";\")\n",
    "horario.columns"
   ]
  },
  {
   "cell_type": "code",
   "execution_count": 39,
   "metadata": {},
   "outputs": [
    {
     "output_type": "execute_result",
     "data": {
      "text/plain": [
       "Index(['tipo_condicion_docente_id', 'tipo_condicion_docente_descripcion'], dtype='object')"
      ]
     },
     "metadata": {},
     "execution_count": 39
    }
   ],
   "source": [
    "docente= pd.read_csv(\"/Users/pilarfeijoo/Desktop/fundamentos de informatica/Fundamentos-de-Informatica/tablas de datos/ref_tipo_condicion_docente.csv\", sep=\";\")\n",
    "docente.columns"
   ]
  },
  {
   "cell_type": "code",
   "execution_count": 40,
   "metadata": {},
   "outputs": [
    {
     "output_type": "execute_result",
     "data": {
      "text/plain": [
       "Index(['persona_id', 'anio', 'sexo_id', 'edad', 'grado_academico_id',\n",
       "       'disciplina_maximo_grado_academico_id', 'disciplina_id',\n",
       "       'disciplina_experticia_id', 'tipo_personal_id', 'producciones_ult_anio',\n",
       "       'producciones_ult_2_anios', 'producciones_ult_3_anios',\n",
       "       'producciones_ult_4_anios', 'institucion_trabajo_id', 'seniority_level',\n",
       "       'categoria_conicet_id', 'categoria_incentivos',\n",
       "       'tipo_dedicacion_horaria_semanal_id', 'institucion_cargo_docente_id',\n",
       "       'clase_cargo_id', 'tipo_condicion_docente_id',\n",
       "       'categoria_conicet_descripcion', 'descripcion',\n",
       "       'tipo_dedicacion_horaria_semanal_descripcion', 'sexo_descripcion',\n",
       "       'tipo_condicion_docente_descripcion'],\n",
       "      dtype='object')"
      ]
     },
     "metadata": {},
     "execution_count": 40
    }
   ],
   "source": [
    "personas_merge = personas_merge.merge(docente, on=\"tipo_condicion_docente_id\")\n",
    "personas_merge.columns"
   ]
  },
  {
   "cell_type": "code",
   "execution_count": 63,
   "metadata": {},
   "outputs": [
    {
     "output_type": "execute_result",
     "data": {
      "text/plain": [
       "Index(['persona_id', 'anio', 'sexo_id', 'edad', 'grado_academico_id',\n",
       "       'disciplina_maximo_grado_academico_id', 'disciplina_id',\n",
       "       'disciplina_experticia_id', 'tipo_personal_id', 'producciones_ult_anio',\n",
       "       'producciones_ult_2_anios', 'producciones_ult_3_anios',\n",
       "       'producciones_ult_4_anios', 'institucion_trabajo_id', 'seniority_level',\n",
       "       'categoria_conicet_id', 'categoria_incentivos',\n",
       "       'tipo_dedicacion_horaria_semanal_id', 'institucion_cargo_docente_id',\n",
       "       'clase_cargo_id', 'tipo_condicion_docente_id',\n",
       "       'categoria_conicet_descripcion', 'descripcion',\n",
       "       'tipo_dedicacion_horaria_semanal_descripcion_x', 'sexo_descripcion',\n",
       "       'tipo_condicion_docente_descripcion',\n",
       "       'tipo_dedicacion_horaria_semanal_descripcion_y',\n",
       "       'tipo_dedicacion_horaria_semanal_descripcion'],\n",
       "      dtype='object')"
      ]
     },
     "metadata": {},
     "execution_count": 63
    }
   ],
   "source": [
    "personas_merge = personas_merge.rename(columns={\"max_dedicacion_horaria_docente_id\":\"tipo_dedicacion_horaria_semanal_id\"})\n",
    "personas_merge = personas_merge.merge(horario, on=\"tipo_dedicacion_horaria_semanal_id\")\n",
    "personas_merge.columns"
   ]
  },
  {
   "cell_type": "code",
   "execution_count": 71,
   "metadata": {},
   "outputs": [
    {
     "output_type": "execute_result",
     "data": {
      "text/plain": [
       "Index(['tipo_condicion_docente_id', 'tipo_condicion_docente_descripcion'], dtype='object')"
      ]
     },
     "metadata": {},
     "execution_count": 71
    }
   ],
   "source": [
    "personal= pd.read_csv(\"/Users/pilarfeijoo/Desktop/fundamentos de informatica/Fundamentos-de-Informatica/tablas de datos/ref_tipo_condicion_docente.csv\", sep=\";\")\n",
    "\n",
    "personal.columns"
   ]
  },
  {
   "cell_type": "code",
   "execution_count": 76,
   "metadata": {},
   "outputs": [
    {
     "output_type": "error",
     "ename": "KeyError",
     "evalue": "'tipo_personal_id'",
     "traceback": [
      "\u001b[0;31m---------------------------------------------------------------------------\u001b[0m",
      "\u001b[0;31mKeyError\u001b[0m                                  Traceback (most recent call last)",
      "\u001b[0;32m<ipython-input-76-e40f887ca3fd>\u001b[0m in \u001b[0;36m<module>\u001b[0;34m\u001b[0m\n\u001b[0;32m----> 1\u001b[0;31m \u001b[0mpersonas_merge\u001b[0m \u001b[0;34m=\u001b[0m \u001b[0mpersonas_merge\u001b[0m\u001b[0;34m.\u001b[0m\u001b[0mmerge\u001b[0m\u001b[0;34m(\u001b[0m\u001b[0mpersonal\u001b[0m\u001b[0;34m,\u001b[0m\u001b[0mon\u001b[0m\u001b[0;34m=\u001b[0m\u001b[0;34m\"tipo_personal_id\"\u001b[0m\u001b[0;34m)\u001b[0m\u001b[0;34m\u001b[0m\u001b[0;34m\u001b[0m\u001b[0m\n\u001b[0m\u001b[1;32m      2\u001b[0m \u001b[0;34m\u001b[0m\u001b[0m\n\u001b[1;32m      3\u001b[0m \u001b[0mpersonas_merge\u001b[0m\u001b[0;34m.\u001b[0m\u001b[0mcolumns\u001b[0m\u001b[0;34m\u001b[0m\u001b[0;34m\u001b[0m\u001b[0m\n",
      "\u001b[0;32m/Library/Frameworks/Python.framework/Versions/3.9/lib/python3.9/site-packages/pandas/core/frame.py\u001b[0m in \u001b[0;36mmerge\u001b[0;34m(self, right, how, on, left_on, right_on, left_index, right_index, sort, suffixes, copy, indicator, validate)\u001b[0m\n\u001b[1;32m   8193\u001b[0m         \u001b[0;32mfrom\u001b[0m \u001b[0mpandas\u001b[0m\u001b[0;34m.\u001b[0m\u001b[0mcore\u001b[0m\u001b[0;34m.\u001b[0m\u001b[0mreshape\u001b[0m\u001b[0;34m.\u001b[0m\u001b[0mmerge\u001b[0m \u001b[0;32mimport\u001b[0m \u001b[0mmerge\u001b[0m\u001b[0;34m\u001b[0m\u001b[0;34m\u001b[0m\u001b[0m\n\u001b[1;32m   8194\u001b[0m \u001b[0;34m\u001b[0m\u001b[0m\n\u001b[0;32m-> 8195\u001b[0;31m         return merge(\n\u001b[0m\u001b[1;32m   8196\u001b[0m             \u001b[0mself\u001b[0m\u001b[0;34m,\u001b[0m\u001b[0;34m\u001b[0m\u001b[0;34m\u001b[0m\u001b[0m\n\u001b[1;32m   8197\u001b[0m             \u001b[0mright\u001b[0m\u001b[0;34m,\u001b[0m\u001b[0;34m\u001b[0m\u001b[0;34m\u001b[0m\u001b[0m\n",
      "\u001b[0;32m/Library/Frameworks/Python.framework/Versions/3.9/lib/python3.9/site-packages/pandas/core/reshape/merge.py\u001b[0m in \u001b[0;36mmerge\u001b[0;34m(left, right, how, on, left_on, right_on, left_index, right_index, sort, suffixes, copy, indicator, validate)\u001b[0m\n\u001b[1;32m     72\u001b[0m     \u001b[0mvalidate\u001b[0m\u001b[0;34m=\u001b[0m\u001b[0;32mNone\u001b[0m\u001b[0;34m,\u001b[0m\u001b[0;34m\u001b[0m\u001b[0;34m\u001b[0m\u001b[0m\n\u001b[1;32m     73\u001b[0m ) -> \"DataFrame\":\n\u001b[0;32m---> 74\u001b[0;31m     op = _MergeOperation(\n\u001b[0m\u001b[1;32m     75\u001b[0m         \u001b[0mleft\u001b[0m\u001b[0;34m,\u001b[0m\u001b[0;34m\u001b[0m\u001b[0;34m\u001b[0m\u001b[0m\n\u001b[1;32m     76\u001b[0m         \u001b[0mright\u001b[0m\u001b[0;34m,\u001b[0m\u001b[0;34m\u001b[0m\u001b[0;34m\u001b[0m\u001b[0m\n",
      "\u001b[0;32m/Library/Frameworks/Python.framework/Versions/3.9/lib/python3.9/site-packages/pandas/core/reshape/merge.py\u001b[0m in \u001b[0;36m__init__\u001b[0;34m(self, left, right, how, on, left_on, right_on, axis, left_index, right_index, sort, suffixes, copy, indicator, validate)\u001b[0m\n\u001b[1;32m    666\u001b[0m             \u001b[0mself\u001b[0m\u001b[0;34m.\u001b[0m\u001b[0mright_join_keys\u001b[0m\u001b[0;34m,\u001b[0m\u001b[0;34m\u001b[0m\u001b[0;34m\u001b[0m\u001b[0m\n\u001b[1;32m    667\u001b[0m             \u001b[0mself\u001b[0m\u001b[0;34m.\u001b[0m\u001b[0mjoin_names\u001b[0m\u001b[0;34m,\u001b[0m\u001b[0;34m\u001b[0m\u001b[0;34m\u001b[0m\u001b[0m\n\u001b[0;32m--> 668\u001b[0;31m         ) = self._get_merge_keys()\n\u001b[0m\u001b[1;32m    669\u001b[0m \u001b[0;34m\u001b[0m\u001b[0m\n\u001b[1;32m    670\u001b[0m         \u001b[0;31m# validate the merge keys dtypes. We may need to coerce\u001b[0m\u001b[0;34m\u001b[0m\u001b[0;34m\u001b[0m\u001b[0;34m\u001b[0m\u001b[0m\n",
      "\u001b[0;32m/Library/Frameworks/Python.framework/Versions/3.9/lib/python3.9/site-packages/pandas/core/reshape/merge.py\u001b[0m in \u001b[0;36m_get_merge_keys\u001b[0;34m(self)\u001b[0m\n\u001b[1;32m   1031\u001b[0m                     \u001b[0;32mif\u001b[0m \u001b[0;32mnot\u001b[0m \u001b[0mis_rkey\u001b[0m\u001b[0;34m(\u001b[0m\u001b[0mrk\u001b[0m\u001b[0;34m)\u001b[0m\u001b[0;34m:\u001b[0m\u001b[0;34m\u001b[0m\u001b[0;34m\u001b[0m\u001b[0m\n\u001b[1;32m   1032\u001b[0m                         \u001b[0;32mif\u001b[0m \u001b[0mrk\u001b[0m \u001b[0;32mis\u001b[0m \u001b[0;32mnot\u001b[0m \u001b[0;32mNone\u001b[0m\u001b[0;34m:\u001b[0m\u001b[0;34m\u001b[0m\u001b[0;34m\u001b[0m\u001b[0m\n\u001b[0;32m-> 1033\u001b[0;31m                             \u001b[0mright_keys\u001b[0m\u001b[0;34m.\u001b[0m\u001b[0mappend\u001b[0m\u001b[0;34m(\u001b[0m\u001b[0mright\u001b[0m\u001b[0;34m.\u001b[0m\u001b[0m_get_label_or_level_values\u001b[0m\u001b[0;34m(\u001b[0m\u001b[0mrk\u001b[0m\u001b[0;34m)\u001b[0m\u001b[0;34m)\u001b[0m\u001b[0;34m\u001b[0m\u001b[0;34m\u001b[0m\u001b[0m\n\u001b[0m\u001b[1;32m   1034\u001b[0m                         \u001b[0;32melse\u001b[0m\u001b[0;34m:\u001b[0m\u001b[0;34m\u001b[0m\u001b[0;34m\u001b[0m\u001b[0m\n\u001b[1;32m   1035\u001b[0m                             \u001b[0;31m# work-around for merge_asof(right_index=True)\u001b[0m\u001b[0;34m\u001b[0m\u001b[0;34m\u001b[0m\u001b[0;34m\u001b[0m\u001b[0m\n",
      "\u001b[0;32m/Library/Frameworks/Python.framework/Versions/3.9/lib/python3.9/site-packages/pandas/core/generic.py\u001b[0m in \u001b[0;36m_get_label_or_level_values\u001b[0;34m(self, key, axis)\u001b[0m\n\u001b[1;32m   1682\u001b[0m             \u001b[0mvalues\u001b[0m \u001b[0;34m=\u001b[0m \u001b[0mself\u001b[0m\u001b[0;34m.\u001b[0m\u001b[0maxes\u001b[0m\u001b[0;34m[\u001b[0m\u001b[0maxis\u001b[0m\u001b[0;34m]\u001b[0m\u001b[0;34m.\u001b[0m\u001b[0mget_level_values\u001b[0m\u001b[0;34m(\u001b[0m\u001b[0mkey\u001b[0m\u001b[0;34m)\u001b[0m\u001b[0;34m.\u001b[0m\u001b[0m_values\u001b[0m\u001b[0;34m\u001b[0m\u001b[0;34m\u001b[0m\u001b[0m\n\u001b[1;32m   1683\u001b[0m         \u001b[0;32melse\u001b[0m\u001b[0;34m:\u001b[0m\u001b[0;34m\u001b[0m\u001b[0;34m\u001b[0m\u001b[0m\n\u001b[0;32m-> 1684\u001b[0;31m             \u001b[0;32mraise\u001b[0m \u001b[0mKeyError\u001b[0m\u001b[0;34m(\u001b[0m\u001b[0mkey\u001b[0m\u001b[0;34m)\u001b[0m\u001b[0;34m\u001b[0m\u001b[0;34m\u001b[0m\u001b[0m\n\u001b[0m\u001b[1;32m   1685\u001b[0m \u001b[0;34m\u001b[0m\u001b[0m\n\u001b[1;32m   1686\u001b[0m         \u001b[0;31m# Check for duplicates\u001b[0m\u001b[0;34m\u001b[0m\u001b[0;34m\u001b[0m\u001b[0;34m\u001b[0m\u001b[0m\n",
      "\u001b[0;31mKeyError\u001b[0m: 'tipo_personal_id'"
     ]
    }
   ],
   "source": [
    "\n",
    "personas_merge = personas_merge.merge(personal,on=\"tipo_personal_id\")\n",
    "\n",
    "personas_merge.columns"
   ]
  },
  {
   "cell_type": "code",
   "execution_count": 77,
   "metadata": {},
   "outputs": [
    {
     "output_type": "execute_result",
     "data": {
      "text/plain": [
       "       persona_id  anio  sexo_id  edad  grado_academico_id  \\\n",
       "0               1  2011        2    36                  -1   \n",
       "1            1502  2011        2    27                  -1   \n",
       "2            1512  2011        2    26                  -1   \n",
       "3            3197  2011        2    22                  -1   \n",
       "4            3812  2011        2    24                  -1   \n",
       "...           ...   ...      ...   ...                 ...   \n",
       "48635       18873  2011        1    53                   1   \n",
       "48636        5506  2011        1    35                   1   \n",
       "48637        6246  2011        1    41                   1   \n",
       "48638       10107  2011        1    40                   1   \n",
       "48639       19053  2011        1    53                   3   \n",
       "\n",
       "       disciplina_maximo_grado_academico_id  disciplina_id  \\\n",
       "0                                        -1             -1   \n",
       "1                                        -1             -1   \n",
       "2                                        -1             -1   \n",
       "3                                        -1             -1   \n",
       "4                                        -1             -1   \n",
       "...                                     ...            ...   \n",
       "48635                                   256            256   \n",
       "48636                                    -1             -1   \n",
       "48637                                     2              2   \n",
       "48638                                    -1             -1   \n",
       "48639                                   271            249   \n",
       "\n",
       "       disciplina_experticia_id  tipo_personal_id  producciones_ult_anio  ...  \\\n",
       "0                            64                 4                      0  ...   \n",
       "1                             7                 4                      0  ...   \n",
       "2                            46                 1                      1  ...   \n",
       "3                           103                 4                      0  ...   \n",
       "4                           258                 4                      3  ...   \n",
       "...                         ...               ...                    ...  ...   \n",
       "48635                        41                 3                      2  ...   \n",
       "48636                         5                 3                      1  ...   \n",
       "48637                         3                 3                      4  ...   \n",
       "48638                         4                 3                      0  ...   \n",
       "48639                       249                 4                      0  ...   \n",
       "\n",
       "       institucion_cargo_docente_id  clase_cargo_id  \\\n",
       "0                             116.0            22.0   \n",
       "1                             101.0            22.0   \n",
       "2                            3490.0            22.0   \n",
       "3                             352.0            41.0   \n",
       "4                            3582.0            41.0   \n",
       "...                             ...             ...   \n",
       "48635                         258.0            69.0   \n",
       "48636                        3224.0            69.0   \n",
       "48637                        1513.0            69.0   \n",
       "48638                         130.0            69.0   \n",
       "48639                        5036.0            20.0   \n",
       "\n",
       "       tipo_condicion_docente_id  categoria_conicet_descripcion  \\\n",
       "0                            1.0         No pertenece a Conicet   \n",
       "1                            1.0         No pertenece a Conicet   \n",
       "2                            1.0         No pertenece a Conicet   \n",
       "3                            1.0         No pertenece a Conicet   \n",
       "4                            1.0         No pertenece a Conicet   \n",
       "...                          ...                            ...   \n",
       "48635                       -1.0         Investigador principal   \n",
       "48636                       -1.0         Investigador asistente   \n",
       "48637                       -1.0         Investigador asistente   \n",
       "48638                       -1.0         Investigador asistente   \n",
       "48639                       -1.0         No pertenece a Conicet   \n",
       "\n",
       "                                     descripcion  \\\n",
       "0                                      Sin datos   \n",
       "1                                      Sin datos   \n",
       "2                                      Sin datos   \n",
       "3                                      Sin datos   \n",
       "4                                      Sin datos   \n",
       "...                                          ...   \n",
       "48635        Universitario de posgrado/doctorado   \n",
       "48636        Universitario de posgrado/doctorado   \n",
       "48637        Universitario de posgrado/doctorado   \n",
       "48638        Universitario de posgrado/doctorado   \n",
       "48639  Universitario de posgrado/especialización   \n",
       "\n",
       "       tipo_dedicacion_horaria_semanal_descripcion_x  sexo_descripcion  \\\n",
       "0                                De 0 hasta 19 horas         MASCULINO   \n",
       "1                                De 0 hasta 19 horas         MASCULINO   \n",
       "2                                De 0 hasta 19 horas         MASCULINO   \n",
       "3                                De 0 hasta 19 horas         MASCULINO   \n",
       "4                                De 0 hasta 19 horas         MASCULINO   \n",
       "...                                              ...               ...   \n",
       "48635                                 40 horas o más          FEMENINO   \n",
       "48636                                 40 horas o más          FEMENINO   \n",
       "48637                                 40 horas o más          FEMENINO   \n",
       "48638                                 40 horas o más          FEMENINO   \n",
       "48639                                 40 horas o más          FEMENINO   \n",
       "\n",
       "       tipo_condicion_docente_descripcion  \\\n",
       "0                  Regular o por concurso   \n",
       "1                  Regular o por concurso   \n",
       "2                  Regular o por concurso   \n",
       "3                  Regular o por concurso   \n",
       "4                  Regular o por concurso   \n",
       "...                                   ...   \n",
       "48635                           Sin datos   \n",
       "48636                           Sin datos   \n",
       "48637                           Sin datos   \n",
       "48638                           Sin datos   \n",
       "48639                           Sin datos   \n",
       "\n",
       "       tipo_dedicacion_horaria_semanal_descripcion_y  \\\n",
       "0                                De 0 hasta 19 horas   \n",
       "1                                De 0 hasta 19 horas   \n",
       "2                                De 0 hasta 19 horas   \n",
       "3                                De 0 hasta 19 horas   \n",
       "4                                De 0 hasta 19 horas   \n",
       "...                                              ...   \n",
       "48635                                 40 horas o más   \n",
       "48636                                 40 horas o más   \n",
       "48637                                 40 horas o más   \n",
       "48638                                 40 horas o más   \n",
       "48639                                 40 horas o más   \n",
       "\n",
       "       tipo_dedicacion_horaria_semanal_descripcion  \n",
       "0                              De 0 hasta 19 horas  \n",
       "1                              De 0 hasta 19 horas  \n",
       "2                              De 0 hasta 19 horas  \n",
       "3                              De 0 hasta 19 horas  \n",
       "4                              De 0 hasta 19 horas  \n",
       "...                                            ...  \n",
       "48635                               40 horas o más  \n",
       "48636                               40 horas o más  \n",
       "48637                               40 horas o más  \n",
       "48638                               40 horas o más  \n",
       "48639                               40 horas o más  \n",
       "\n",
       "[48640 rows x 28 columns]"
      ],
      "text/html": "<div>\n<style scoped>\n    .dataframe tbody tr th:only-of-type {\n        vertical-align: middle;\n    }\n\n    .dataframe tbody tr th {\n        vertical-align: top;\n    }\n\n    .dataframe thead th {\n        text-align: right;\n    }\n</style>\n<table border=\"1\" class=\"dataframe\">\n  <thead>\n    <tr style=\"text-align: right;\">\n      <th></th>\n      <th>persona_id</th>\n      <th>anio</th>\n      <th>sexo_id</th>\n      <th>edad</th>\n      <th>grado_academico_id</th>\n      <th>disciplina_maximo_grado_academico_id</th>\n      <th>disciplina_id</th>\n      <th>disciplina_experticia_id</th>\n      <th>tipo_personal_id</th>\n      <th>producciones_ult_anio</th>\n      <th>...</th>\n      <th>institucion_cargo_docente_id</th>\n      <th>clase_cargo_id</th>\n      <th>tipo_condicion_docente_id</th>\n      <th>categoria_conicet_descripcion</th>\n      <th>descripcion</th>\n      <th>tipo_dedicacion_horaria_semanal_descripcion_x</th>\n      <th>sexo_descripcion</th>\n      <th>tipo_condicion_docente_descripcion</th>\n      <th>tipo_dedicacion_horaria_semanal_descripcion_y</th>\n      <th>tipo_dedicacion_horaria_semanal_descripcion</th>\n    </tr>\n  </thead>\n  <tbody>\n    <tr>\n      <th>0</th>\n      <td>1</td>\n      <td>2011</td>\n      <td>2</td>\n      <td>36</td>\n      <td>-1</td>\n      <td>-1</td>\n      <td>-1</td>\n      <td>64</td>\n      <td>4</td>\n      <td>0</td>\n      <td>...</td>\n      <td>116.0</td>\n      <td>22.0</td>\n      <td>1.0</td>\n      <td>No pertenece a Conicet</td>\n      <td>Sin datos</td>\n      <td>De 0 hasta 19 horas</td>\n      <td>MASCULINO</td>\n      <td>Regular o por concurso</td>\n      <td>De 0 hasta 19 horas</td>\n      <td>De 0 hasta 19 horas</td>\n    </tr>\n    <tr>\n      <th>1</th>\n      <td>1502</td>\n      <td>2011</td>\n      <td>2</td>\n      <td>27</td>\n      <td>-1</td>\n      <td>-1</td>\n      <td>-1</td>\n      <td>7</td>\n      <td>4</td>\n      <td>0</td>\n      <td>...</td>\n      <td>101.0</td>\n      <td>22.0</td>\n      <td>1.0</td>\n      <td>No pertenece a Conicet</td>\n      <td>Sin datos</td>\n      <td>De 0 hasta 19 horas</td>\n      <td>MASCULINO</td>\n      <td>Regular o por concurso</td>\n      <td>De 0 hasta 19 horas</td>\n      <td>De 0 hasta 19 horas</td>\n    </tr>\n    <tr>\n      <th>2</th>\n      <td>1512</td>\n      <td>2011</td>\n      <td>2</td>\n      <td>26</td>\n      <td>-1</td>\n      <td>-1</td>\n      <td>-1</td>\n      <td>46</td>\n      <td>1</td>\n      <td>1</td>\n      <td>...</td>\n      <td>3490.0</td>\n      <td>22.0</td>\n      <td>1.0</td>\n      <td>No pertenece a Conicet</td>\n      <td>Sin datos</td>\n      <td>De 0 hasta 19 horas</td>\n      <td>MASCULINO</td>\n      <td>Regular o por concurso</td>\n      <td>De 0 hasta 19 horas</td>\n      <td>De 0 hasta 19 horas</td>\n    </tr>\n    <tr>\n      <th>3</th>\n      <td>3197</td>\n      <td>2011</td>\n      <td>2</td>\n      <td>22</td>\n      <td>-1</td>\n      <td>-1</td>\n      <td>-1</td>\n      <td>103</td>\n      <td>4</td>\n      <td>0</td>\n      <td>...</td>\n      <td>352.0</td>\n      <td>41.0</td>\n      <td>1.0</td>\n      <td>No pertenece a Conicet</td>\n      <td>Sin datos</td>\n      <td>De 0 hasta 19 horas</td>\n      <td>MASCULINO</td>\n      <td>Regular o por concurso</td>\n      <td>De 0 hasta 19 horas</td>\n      <td>De 0 hasta 19 horas</td>\n    </tr>\n    <tr>\n      <th>4</th>\n      <td>3812</td>\n      <td>2011</td>\n      <td>2</td>\n      <td>24</td>\n      <td>-1</td>\n      <td>-1</td>\n      <td>-1</td>\n      <td>258</td>\n      <td>4</td>\n      <td>3</td>\n      <td>...</td>\n      <td>3582.0</td>\n      <td>41.0</td>\n      <td>1.0</td>\n      <td>No pertenece a Conicet</td>\n      <td>Sin datos</td>\n      <td>De 0 hasta 19 horas</td>\n      <td>MASCULINO</td>\n      <td>Regular o por concurso</td>\n      <td>De 0 hasta 19 horas</td>\n      <td>De 0 hasta 19 horas</td>\n    </tr>\n    <tr>\n      <th>...</th>\n      <td>...</td>\n      <td>...</td>\n      <td>...</td>\n      <td>...</td>\n      <td>...</td>\n      <td>...</td>\n      <td>...</td>\n      <td>...</td>\n      <td>...</td>\n      <td>...</td>\n      <td>...</td>\n      <td>...</td>\n      <td>...</td>\n      <td>...</td>\n      <td>...</td>\n      <td>...</td>\n      <td>...</td>\n      <td>...</td>\n      <td>...</td>\n      <td>...</td>\n      <td>...</td>\n    </tr>\n    <tr>\n      <th>48635</th>\n      <td>18873</td>\n      <td>2011</td>\n      <td>1</td>\n      <td>53</td>\n      <td>1</td>\n      <td>256</td>\n      <td>256</td>\n      <td>41</td>\n      <td>3</td>\n      <td>2</td>\n      <td>...</td>\n      <td>258.0</td>\n      <td>69.0</td>\n      <td>-1.0</td>\n      <td>Investigador principal</td>\n      <td>Universitario de posgrado/doctorado</td>\n      <td>40 horas o más</td>\n      <td>FEMENINO</td>\n      <td>Sin datos</td>\n      <td>40 horas o más</td>\n      <td>40 horas o más</td>\n    </tr>\n    <tr>\n      <th>48636</th>\n      <td>5506</td>\n      <td>2011</td>\n      <td>1</td>\n      <td>35</td>\n      <td>1</td>\n      <td>-1</td>\n      <td>-1</td>\n      <td>5</td>\n      <td>3</td>\n      <td>1</td>\n      <td>...</td>\n      <td>3224.0</td>\n      <td>69.0</td>\n      <td>-1.0</td>\n      <td>Investigador asistente</td>\n      <td>Universitario de posgrado/doctorado</td>\n      <td>40 horas o más</td>\n      <td>FEMENINO</td>\n      <td>Sin datos</td>\n      <td>40 horas o más</td>\n      <td>40 horas o más</td>\n    </tr>\n    <tr>\n      <th>48637</th>\n      <td>6246</td>\n      <td>2011</td>\n      <td>1</td>\n      <td>41</td>\n      <td>1</td>\n      <td>2</td>\n      <td>2</td>\n      <td>3</td>\n      <td>3</td>\n      <td>4</td>\n      <td>...</td>\n      <td>1513.0</td>\n      <td>69.0</td>\n      <td>-1.0</td>\n      <td>Investigador asistente</td>\n      <td>Universitario de posgrado/doctorado</td>\n      <td>40 horas o más</td>\n      <td>FEMENINO</td>\n      <td>Sin datos</td>\n      <td>40 horas o más</td>\n      <td>40 horas o más</td>\n    </tr>\n    <tr>\n      <th>48638</th>\n      <td>10107</td>\n      <td>2011</td>\n      <td>1</td>\n      <td>40</td>\n      <td>1</td>\n      <td>-1</td>\n      <td>-1</td>\n      <td>4</td>\n      <td>3</td>\n      <td>0</td>\n      <td>...</td>\n      <td>130.0</td>\n      <td>69.0</td>\n      <td>-1.0</td>\n      <td>Investigador asistente</td>\n      <td>Universitario de posgrado/doctorado</td>\n      <td>40 horas o más</td>\n      <td>FEMENINO</td>\n      <td>Sin datos</td>\n      <td>40 horas o más</td>\n      <td>40 horas o más</td>\n    </tr>\n    <tr>\n      <th>48639</th>\n      <td>19053</td>\n      <td>2011</td>\n      <td>1</td>\n      <td>53</td>\n      <td>3</td>\n      <td>271</td>\n      <td>249</td>\n      <td>249</td>\n      <td>4</td>\n      <td>0</td>\n      <td>...</td>\n      <td>5036.0</td>\n      <td>20.0</td>\n      <td>-1.0</td>\n      <td>No pertenece a Conicet</td>\n      <td>Universitario de posgrado/especialización</td>\n      <td>40 horas o más</td>\n      <td>FEMENINO</td>\n      <td>Sin datos</td>\n      <td>40 horas o más</td>\n      <td>40 horas o más</td>\n    </tr>\n  </tbody>\n</table>\n<p>48640 rows × 28 columns</p>\n</div>"
     },
     "metadata": {},
     "execution_count": 77
    }
   ],
   "source": [
    "personas_merge"
   ]
  },
  {
   "cell_type": "code",
   "execution_count": 20,
   "metadata": {},
   "outputs": [
    {
     "output_type": "error",
     "ename": "ParserError",
     "evalue": "Error tokenizing data. C error: Expected 1 fields in line 170, saw 2\n",
     "traceback": [
      "\u001b[0;31m---------------------------------------------------------------------------\u001b[0m",
      "\u001b[0;31mParserError\u001b[0m                               Traceback (most recent call last)",
      "\u001b[0;32m<ipython-input-20-81818e321e7f>\u001b[0m in \u001b[0;36m<module>\u001b[0;34m\u001b[0m\n\u001b[1;32m      1\u001b[0m \u001b[0;32mimport\u001b[0m \u001b[0mpandas\u001b[0m \u001b[0;32mas\u001b[0m \u001b[0mpd\u001b[0m\u001b[0;34m\u001b[0m\u001b[0;34m\u001b[0m\u001b[0m\n\u001b[0;32m----> 2\u001b[0;31m \u001b[0mpersonas_merge\u001b[0m\u001b[0;34m=\u001b[0m \u001b[0mpd\u001b[0m\u001b[0;34m.\u001b[0m\u001b[0mread_csv\u001b[0m\u001b[0;34m(\u001b[0m\u001b[0;34m\"/Users/pilarfeijoo/Desktop/fundamentos de informatica/Fundamentos-de-Informatica/personas_merge.csv\"\u001b[0m\u001b[0;34m)\u001b[0m\u001b[0;34m\u001b[0m\u001b[0;34m\u001b[0m\u001b[0m\n\u001b[0m\u001b[1;32m      3\u001b[0m \u001b[0;34m\u001b[0m\u001b[0m\n\u001b[1;32m      4\u001b[0m \u001b[0mpersonas_merge\u001b[0m\u001b[0;34m.\u001b[0m\u001b[0mcolums\u001b[0m\u001b[0;34m\u001b[0m\u001b[0;34m\u001b[0m\u001b[0m\n",
      "\u001b[0;32m/Library/Frameworks/Python.framework/Versions/3.9/lib/python3.9/site-packages/pandas/io/parsers.py\u001b[0m in \u001b[0;36mread_csv\u001b[0;34m(filepath_or_buffer, sep, delimiter, header, names, index_col, usecols, squeeze, prefix, mangle_dupe_cols, dtype, engine, converters, true_values, false_values, skipinitialspace, skiprows, skipfooter, nrows, na_values, keep_default_na, na_filter, verbose, skip_blank_lines, parse_dates, infer_datetime_format, keep_date_col, date_parser, dayfirst, cache_dates, iterator, chunksize, compression, thousands, decimal, lineterminator, quotechar, quoting, doublequote, escapechar, comment, encoding, dialect, error_bad_lines, warn_bad_lines, delim_whitespace, low_memory, memory_map, float_precision, storage_options)\u001b[0m\n\u001b[1;32m    608\u001b[0m     \u001b[0mkwds\u001b[0m\u001b[0;34m.\u001b[0m\u001b[0mupdate\u001b[0m\u001b[0;34m(\u001b[0m\u001b[0mkwds_defaults\u001b[0m\u001b[0;34m)\u001b[0m\u001b[0;34m\u001b[0m\u001b[0;34m\u001b[0m\u001b[0m\n\u001b[1;32m    609\u001b[0m \u001b[0;34m\u001b[0m\u001b[0m\n\u001b[0;32m--> 610\u001b[0;31m     \u001b[0;32mreturn\u001b[0m \u001b[0m_read\u001b[0m\u001b[0;34m(\u001b[0m\u001b[0mfilepath_or_buffer\u001b[0m\u001b[0;34m,\u001b[0m \u001b[0mkwds\u001b[0m\u001b[0;34m)\u001b[0m\u001b[0;34m\u001b[0m\u001b[0;34m\u001b[0m\u001b[0m\n\u001b[0m\u001b[1;32m    611\u001b[0m \u001b[0;34m\u001b[0m\u001b[0m\n\u001b[1;32m    612\u001b[0m \u001b[0;34m\u001b[0m\u001b[0m\n",
      "\u001b[0;32m/Library/Frameworks/Python.framework/Versions/3.9/lib/python3.9/site-packages/pandas/io/parsers.py\u001b[0m in \u001b[0;36m_read\u001b[0;34m(filepath_or_buffer, kwds)\u001b[0m\n\u001b[1;32m    466\u001b[0m \u001b[0;34m\u001b[0m\u001b[0m\n\u001b[1;32m    467\u001b[0m     \u001b[0;32mwith\u001b[0m \u001b[0mparser\u001b[0m\u001b[0;34m:\u001b[0m\u001b[0;34m\u001b[0m\u001b[0;34m\u001b[0m\u001b[0m\n\u001b[0;32m--> 468\u001b[0;31m         \u001b[0;32mreturn\u001b[0m \u001b[0mparser\u001b[0m\u001b[0;34m.\u001b[0m\u001b[0mread\u001b[0m\u001b[0;34m(\u001b[0m\u001b[0mnrows\u001b[0m\u001b[0;34m)\u001b[0m\u001b[0;34m\u001b[0m\u001b[0;34m\u001b[0m\u001b[0m\n\u001b[0m\u001b[1;32m    469\u001b[0m \u001b[0;34m\u001b[0m\u001b[0m\n\u001b[1;32m    470\u001b[0m \u001b[0;34m\u001b[0m\u001b[0m\n",
      "\u001b[0;32m/Library/Frameworks/Python.framework/Versions/3.9/lib/python3.9/site-packages/pandas/io/parsers.py\u001b[0m in \u001b[0;36mread\u001b[0;34m(self, nrows)\u001b[0m\n\u001b[1;32m   1055\u001b[0m     \u001b[0;32mdef\u001b[0m \u001b[0mread\u001b[0m\u001b[0;34m(\u001b[0m\u001b[0mself\u001b[0m\u001b[0;34m,\u001b[0m \u001b[0mnrows\u001b[0m\u001b[0;34m=\u001b[0m\u001b[0;32mNone\u001b[0m\u001b[0;34m)\u001b[0m\u001b[0;34m:\u001b[0m\u001b[0;34m\u001b[0m\u001b[0;34m\u001b[0m\u001b[0m\n\u001b[1;32m   1056\u001b[0m         \u001b[0mnrows\u001b[0m \u001b[0;34m=\u001b[0m \u001b[0mvalidate_integer\u001b[0m\u001b[0;34m(\u001b[0m\u001b[0;34m\"nrows\"\u001b[0m\u001b[0;34m,\u001b[0m \u001b[0mnrows\u001b[0m\u001b[0;34m)\u001b[0m\u001b[0;34m\u001b[0m\u001b[0;34m\u001b[0m\u001b[0m\n\u001b[0;32m-> 1057\u001b[0;31m         \u001b[0mindex\u001b[0m\u001b[0;34m,\u001b[0m \u001b[0mcolumns\u001b[0m\u001b[0;34m,\u001b[0m \u001b[0mcol_dict\u001b[0m \u001b[0;34m=\u001b[0m \u001b[0mself\u001b[0m\u001b[0;34m.\u001b[0m\u001b[0m_engine\u001b[0m\u001b[0;34m.\u001b[0m\u001b[0mread\u001b[0m\u001b[0;34m(\u001b[0m\u001b[0mnrows\u001b[0m\u001b[0;34m)\u001b[0m\u001b[0;34m\u001b[0m\u001b[0;34m\u001b[0m\u001b[0m\n\u001b[0m\u001b[1;32m   1058\u001b[0m \u001b[0;34m\u001b[0m\u001b[0m\n\u001b[1;32m   1059\u001b[0m         \u001b[0;32mif\u001b[0m \u001b[0mindex\u001b[0m \u001b[0;32mis\u001b[0m \u001b[0;32mNone\u001b[0m\u001b[0;34m:\u001b[0m\u001b[0;34m\u001b[0m\u001b[0;34m\u001b[0m\u001b[0m\n",
      "\u001b[0;32m/Library/Frameworks/Python.framework/Versions/3.9/lib/python3.9/site-packages/pandas/io/parsers.py\u001b[0m in \u001b[0;36mread\u001b[0;34m(self, nrows)\u001b[0m\n\u001b[1;32m   2059\u001b[0m     \u001b[0;32mdef\u001b[0m \u001b[0mread\u001b[0m\u001b[0;34m(\u001b[0m\u001b[0mself\u001b[0m\u001b[0;34m,\u001b[0m \u001b[0mnrows\u001b[0m\u001b[0;34m=\u001b[0m\u001b[0;32mNone\u001b[0m\u001b[0;34m)\u001b[0m\u001b[0;34m:\u001b[0m\u001b[0;34m\u001b[0m\u001b[0;34m\u001b[0m\u001b[0m\n\u001b[1;32m   2060\u001b[0m         \u001b[0;32mtry\u001b[0m\u001b[0;34m:\u001b[0m\u001b[0;34m\u001b[0m\u001b[0;34m\u001b[0m\u001b[0m\n\u001b[0;32m-> 2061\u001b[0;31m             \u001b[0mdata\u001b[0m \u001b[0;34m=\u001b[0m \u001b[0mself\u001b[0m\u001b[0;34m.\u001b[0m\u001b[0m_reader\u001b[0m\u001b[0;34m.\u001b[0m\u001b[0mread\u001b[0m\u001b[0;34m(\u001b[0m\u001b[0mnrows\u001b[0m\u001b[0;34m)\u001b[0m\u001b[0;34m\u001b[0m\u001b[0;34m\u001b[0m\u001b[0m\n\u001b[0m\u001b[1;32m   2062\u001b[0m         \u001b[0;32mexcept\u001b[0m \u001b[0mStopIteration\u001b[0m\u001b[0;34m:\u001b[0m\u001b[0;34m\u001b[0m\u001b[0;34m\u001b[0m\u001b[0m\n\u001b[1;32m   2063\u001b[0m             \u001b[0;32mif\u001b[0m \u001b[0mself\u001b[0m\u001b[0;34m.\u001b[0m\u001b[0m_first_chunk\u001b[0m\u001b[0;34m:\u001b[0m\u001b[0;34m\u001b[0m\u001b[0;34m\u001b[0m\u001b[0m\n",
      "\u001b[0;32mpandas/_libs/parsers.pyx\u001b[0m in \u001b[0;36mpandas._libs.parsers.TextReader.read\u001b[0;34m()\u001b[0m\n",
      "\u001b[0;32mpandas/_libs/parsers.pyx\u001b[0m in \u001b[0;36mpandas._libs.parsers.TextReader._read_low_memory\u001b[0;34m()\u001b[0m\n",
      "\u001b[0;32mpandas/_libs/parsers.pyx\u001b[0m in \u001b[0;36mpandas._libs.parsers.TextReader._read_rows\u001b[0;34m()\u001b[0m\n",
      "\u001b[0;32mpandas/_libs/parsers.pyx\u001b[0m in \u001b[0;36mpandas._libs.parsers.TextReader._tokenize_rows\u001b[0;34m()\u001b[0m\n",
      "\u001b[0;32mpandas/_libs/parsers.pyx\u001b[0m in \u001b[0;36mpandas._libs.parsers.raise_parser_error\u001b[0;34m()\u001b[0m\n",
      "\u001b[0;31mParserError\u001b[0m: Error tokenizing data. C error: Expected 1 fields in line 170, saw 2\n"
     ]
    }
   ],
   "source": [
    "import pandas as pd\n",
    "personas_merge= pd.read_csv(\"/Users/pilarfeijoo/Desktop/fundamentos de informatica/Fundamentos-de-Informatica/personas_merge.csv\")\n",
    "\n",
    "personas_merge.colums\n"
   ]
  },
  {
   "cell_type": "code",
   "execution_count": 21,
   "metadata": {},
   "outputs": [
    {
     "output_type": "execute_result",
     "data": {
      "text/plain": [
       "       persona_id  anio  sexo_id  edad  maximo_grado_academico_id  \\\n",
       "0               1  2011        2    36                         -1   \n",
       "1               5  2011        1    48                          1   \n",
       "2               7  2011        2    30                          5   \n",
       "3              10  2011        2    51                          5   \n",
       "4              11  2011        1    39                          2   \n",
       "...           ...   ...      ...   ...                        ...   \n",
       "68547      185558  2011        2    -1                         -1   \n",
       "68548      185574  2011        2    55                         -1   \n",
       "68549      185583  2011        2    18                          7   \n",
       "68550      185590  2011        2    -1                          8   \n",
       "68551      185608  2011        1    27                          5   \n",
       "\n",
       "       disciplina_maximo_grado_academico_id  disciplina_titulo_grado_id  \\\n",
       "0                                        -1                          -1   \n",
       "1                                       255                         255   \n",
       "2                                       111                         111   \n",
       "3                                       248                         248   \n",
       "4                                       223                         203   \n",
       "...                                     ...                         ...   \n",
       "68547                                    -1                          -1   \n",
       "68548                                    -1                          -1   \n",
       "68549                                    -1                          -1   \n",
       "68550                                    -1                          -1   \n",
       "68551                                   227                         227   \n",
       "\n",
       "       disciplina_experticia_id  tipo_personal_id  producciones_ult_anio  ...  \\\n",
       "0                            64                 4                      0  ...   \n",
       "1                           255                 3                      5  ...   \n",
       "2                           158                 1                     11  ...   \n",
       "3                            29                 4                      0  ...   \n",
       "4                           280                 3                      8  ...   \n",
       "...                         ...               ...                    ...  ...   \n",
       "68547                       263                 2                     -1  ...   \n",
       "68548                        38                 2                      0  ...   \n",
       "68549                       216                 2                     -1  ...   \n",
       "68550                       250                 2                     -1  ...   \n",
       "68551                       252                 2                     -1  ...   \n",
       "\n",
       "       producciones_ult_3_anios  producciones_ult_4_anios  \\\n",
       "0                             1                         1   \n",
       "1                            13                        17   \n",
       "2                            13                        13   \n",
       "3                             3                         4   \n",
       "4                            15                        18   \n",
       "...                         ...                       ...   \n",
       "68547                        -1                        -1   \n",
       "68548                         0                         0   \n",
       "68549                        -1                        -1   \n",
       "68550                        -1                        -1   \n",
       "68551                        -1                        -1   \n",
       "\n",
       "       institucion_trabajo_id  seniority_level categoria_conicet_id  \\\n",
       "0                        4488                                  -1.0   \n",
       "1                         118              B                    2.0   \n",
       "2                         587              D                    NaN   \n",
       "3                          44                                  -1.0   \n",
       "4                        7310              C                   -1.0   \n",
       "...                       ...              ...                  ...   \n",
       "68547                     221                                   NaN   \n",
       "68548                   10971                                   NaN   \n",
       "68549                   10624                                   NaN   \n",
       "68550                     396                                   NaN   \n",
       "68551                    3765                                   NaN   \n",
       "\n",
       "       categoria_incentivos  max_dedicacion_horaria_docente_id  \\\n",
       "0                      -1.0                                3.0   \n",
       "1                       3.0                                3.0   \n",
       "2                       NaN                                NaN   \n",
       "3                       4.0                                3.0   \n",
       "4                       4.0                                3.0   \n",
       "...                     ...                                ...   \n",
       "68547                   NaN                                NaN   \n",
       "68548                   NaN                                NaN   \n",
       "68549                   NaN                                NaN   \n",
       "68550                   NaN                                NaN   \n",
       "68551                   NaN                                NaN   \n",
       "\n",
       "       institucion_cargo_docente_id  clase_cargo_docente_id  \\\n",
       "0                             116.0                    22.0   \n",
       "1                             118.0                    19.0   \n",
       "2                               NaN                     NaN   \n",
       "3                             124.0                    21.0   \n",
       "4                            6627.0                    20.0   \n",
       "...                             ...                     ...   \n",
       "68547                           NaN                     NaN   \n",
       "68548                           NaN                     NaN   \n",
       "68549                           NaN                     NaN   \n",
       "68550                           NaN                     NaN   \n",
       "68551                           NaN                     NaN   \n",
       "\n",
       "       tipo_condicion_docente_id  \n",
       "0                            1.0  \n",
       "1                            2.0  \n",
       "2                            NaN  \n",
       "3                            1.0  \n",
       "4                            1.0  \n",
       "...                          ...  \n",
       "68547                        NaN  \n",
       "68548                        NaN  \n",
       "68549                        NaN  \n",
       "68550                        NaN  \n",
       "68551                        NaN  \n",
       "\n",
       "[68552 rows x 21 columns]"
      ],
      "text/html": "<div>\n<style scoped>\n    .dataframe tbody tr th:only-of-type {\n        vertical-align: middle;\n    }\n\n    .dataframe tbody tr th {\n        vertical-align: top;\n    }\n\n    .dataframe thead th {\n        text-align: right;\n    }\n</style>\n<table border=\"1\" class=\"dataframe\">\n  <thead>\n    <tr style=\"text-align: right;\">\n      <th></th>\n      <th>persona_id</th>\n      <th>anio</th>\n      <th>sexo_id</th>\n      <th>edad</th>\n      <th>maximo_grado_academico_id</th>\n      <th>disciplina_maximo_grado_academico_id</th>\n      <th>disciplina_titulo_grado_id</th>\n      <th>disciplina_experticia_id</th>\n      <th>tipo_personal_id</th>\n      <th>producciones_ult_anio</th>\n      <th>...</th>\n      <th>producciones_ult_3_anios</th>\n      <th>producciones_ult_4_anios</th>\n      <th>institucion_trabajo_id</th>\n      <th>seniority_level</th>\n      <th>categoria_conicet_id</th>\n      <th>categoria_incentivos</th>\n      <th>max_dedicacion_horaria_docente_id</th>\n      <th>institucion_cargo_docente_id</th>\n      <th>clase_cargo_docente_id</th>\n      <th>tipo_condicion_docente_id</th>\n    </tr>\n  </thead>\n  <tbody>\n    <tr>\n      <th>0</th>\n      <td>1</td>\n      <td>2011</td>\n      <td>2</td>\n      <td>36</td>\n      <td>-1</td>\n      <td>-1</td>\n      <td>-1</td>\n      <td>64</td>\n      <td>4</td>\n      <td>0</td>\n      <td>...</td>\n      <td>1</td>\n      <td>1</td>\n      <td>4488</td>\n      <td></td>\n      <td>-1.0</td>\n      <td>-1.0</td>\n      <td>3.0</td>\n      <td>116.0</td>\n      <td>22.0</td>\n      <td>1.0</td>\n    </tr>\n    <tr>\n      <th>1</th>\n      <td>5</td>\n      <td>2011</td>\n      <td>1</td>\n      <td>48</td>\n      <td>1</td>\n      <td>255</td>\n      <td>255</td>\n      <td>255</td>\n      <td>3</td>\n      <td>5</td>\n      <td>...</td>\n      <td>13</td>\n      <td>17</td>\n      <td>118</td>\n      <td>B</td>\n      <td>2.0</td>\n      <td>3.0</td>\n      <td>3.0</td>\n      <td>118.0</td>\n      <td>19.0</td>\n      <td>2.0</td>\n    </tr>\n    <tr>\n      <th>2</th>\n      <td>7</td>\n      <td>2011</td>\n      <td>2</td>\n      <td>30</td>\n      <td>5</td>\n      <td>111</td>\n      <td>111</td>\n      <td>158</td>\n      <td>1</td>\n      <td>11</td>\n      <td>...</td>\n      <td>13</td>\n      <td>13</td>\n      <td>587</td>\n      <td>D</td>\n      <td>NaN</td>\n      <td>NaN</td>\n      <td>NaN</td>\n      <td>NaN</td>\n      <td>NaN</td>\n      <td>NaN</td>\n    </tr>\n    <tr>\n      <th>3</th>\n      <td>10</td>\n      <td>2011</td>\n      <td>2</td>\n      <td>51</td>\n      <td>5</td>\n      <td>248</td>\n      <td>248</td>\n      <td>29</td>\n      <td>4</td>\n      <td>0</td>\n      <td>...</td>\n      <td>3</td>\n      <td>4</td>\n      <td>44</td>\n      <td></td>\n      <td>-1.0</td>\n      <td>4.0</td>\n      <td>3.0</td>\n      <td>124.0</td>\n      <td>21.0</td>\n      <td>1.0</td>\n    </tr>\n    <tr>\n      <th>4</th>\n      <td>11</td>\n      <td>2011</td>\n      <td>1</td>\n      <td>39</td>\n      <td>2</td>\n      <td>223</td>\n      <td>203</td>\n      <td>280</td>\n      <td>3</td>\n      <td>8</td>\n      <td>...</td>\n      <td>15</td>\n      <td>18</td>\n      <td>7310</td>\n      <td>C</td>\n      <td>-1.0</td>\n      <td>4.0</td>\n      <td>3.0</td>\n      <td>6627.0</td>\n      <td>20.0</td>\n      <td>1.0</td>\n    </tr>\n    <tr>\n      <th>...</th>\n      <td>...</td>\n      <td>...</td>\n      <td>...</td>\n      <td>...</td>\n      <td>...</td>\n      <td>...</td>\n      <td>...</td>\n      <td>...</td>\n      <td>...</td>\n      <td>...</td>\n      <td>...</td>\n      <td>...</td>\n      <td>...</td>\n      <td>...</td>\n      <td>...</td>\n      <td>...</td>\n      <td>...</td>\n      <td>...</td>\n      <td>...</td>\n      <td>...</td>\n      <td>...</td>\n    </tr>\n    <tr>\n      <th>68547</th>\n      <td>185558</td>\n      <td>2011</td>\n      <td>2</td>\n      <td>-1</td>\n      <td>-1</td>\n      <td>-1</td>\n      <td>-1</td>\n      <td>263</td>\n      <td>2</td>\n      <td>-1</td>\n      <td>...</td>\n      <td>-1</td>\n      <td>-1</td>\n      <td>221</td>\n      <td></td>\n      <td>NaN</td>\n      <td>NaN</td>\n      <td>NaN</td>\n      <td>NaN</td>\n      <td>NaN</td>\n      <td>NaN</td>\n    </tr>\n    <tr>\n      <th>68548</th>\n      <td>185574</td>\n      <td>2011</td>\n      <td>2</td>\n      <td>55</td>\n      <td>-1</td>\n      <td>-1</td>\n      <td>-1</td>\n      <td>38</td>\n      <td>2</td>\n      <td>0</td>\n      <td>...</td>\n      <td>0</td>\n      <td>0</td>\n      <td>10971</td>\n      <td></td>\n      <td>NaN</td>\n      <td>NaN</td>\n      <td>NaN</td>\n      <td>NaN</td>\n      <td>NaN</td>\n      <td>NaN</td>\n    </tr>\n    <tr>\n      <th>68549</th>\n      <td>185583</td>\n      <td>2011</td>\n      <td>2</td>\n      <td>18</td>\n      <td>7</td>\n      <td>-1</td>\n      <td>-1</td>\n      <td>216</td>\n      <td>2</td>\n      <td>-1</td>\n      <td>...</td>\n      <td>-1</td>\n      <td>-1</td>\n      <td>10624</td>\n      <td></td>\n      <td>NaN</td>\n      <td>NaN</td>\n      <td>NaN</td>\n      <td>NaN</td>\n      <td>NaN</td>\n      <td>NaN</td>\n    </tr>\n    <tr>\n      <th>68550</th>\n      <td>185590</td>\n      <td>2011</td>\n      <td>2</td>\n      <td>-1</td>\n      <td>8</td>\n      <td>-1</td>\n      <td>-1</td>\n      <td>250</td>\n      <td>2</td>\n      <td>-1</td>\n      <td>...</td>\n      <td>-1</td>\n      <td>-1</td>\n      <td>396</td>\n      <td></td>\n      <td>NaN</td>\n      <td>NaN</td>\n      <td>NaN</td>\n      <td>NaN</td>\n      <td>NaN</td>\n      <td>NaN</td>\n    </tr>\n    <tr>\n      <th>68551</th>\n      <td>185608</td>\n      <td>2011</td>\n      <td>1</td>\n      <td>27</td>\n      <td>5</td>\n      <td>227</td>\n      <td>227</td>\n      <td>252</td>\n      <td>2</td>\n      <td>-1</td>\n      <td>...</td>\n      <td>-1</td>\n      <td>-1</td>\n      <td>3765</td>\n      <td></td>\n      <td>NaN</td>\n      <td>NaN</td>\n      <td>NaN</td>\n      <td>NaN</td>\n      <td>NaN</td>\n      <td>NaN</td>\n    </tr>\n  </tbody>\n</table>\n<p>68552 rows × 21 columns</p>\n</div>"
     },
     "metadata": {},
     "execution_count": 21
    }
   ],
   "source": [
    "personas"
   ]
  },
  {
   "cell_type": "code",
   "execution_count": 22,
   "metadata": {},
   "outputs": [
    {
     "output_type": "execute_result",
     "data": {
      "text/plain": [
       " 5    26932\n",
       " 1    15075\n",
       " 2     7764\n",
       " 3     7204\n",
       " 7     5271\n",
       "-1     5055\n",
       " 6     1017\n",
       " 8      234\n",
       "Name: maximo_grado_academico_id, dtype: int64"
      ]
     },
     "metadata": {},
     "execution_count": 22
    }
   ],
   "source": [
    "\n",
    "personas['maximo_grado_academico_id'].value_counts()"
   ]
  },
  {
   "cell_type": "code",
   "execution_count": 23,
   "metadata": {},
   "outputs": [
    {
     "output_type": "stream",
     "name": "stdout",
     "text": [
      "<class 'pandas.core.frame.DataFrame'>\nRangeIndex: 68552 entries, 0 to 68551\nData columns (total 21 columns):\n #   Column                                Non-Null Count  Dtype  \n---  ------                                --------------  -----  \n 0   persona_id                            68552 non-null  int64  \n 1   anio                                  68552 non-null  int64  \n 2   sexo_id                               68552 non-null  int64  \n 3   edad                                  68552 non-null  int64  \n 4   maximo_grado_academico_id             68552 non-null  int64  \n 5   disciplina_maximo_grado_academico_id  68552 non-null  int64  \n 6   disciplina_titulo_grado_id            68552 non-null  int64  \n 7   disciplina_experticia_id              68552 non-null  int64  \n 8   tipo_personal_id                      68552 non-null  int64  \n 9   producciones_ult_anio                 68552 non-null  int64  \n 10  producciones_ult_2_anios              68552 non-null  int64  \n 11  producciones_ult_3_anios              68552 non-null  int64  \n 12  producciones_ult_4_anios              68552 non-null  int64  \n 13  institucion_trabajo_id                68552 non-null  int64  \n 14  seniority_level                       68552 non-null  object \n 15  categoria_conicet_id                  48640 non-null  float64\n 16  categoria_incentivos                  48640 non-null  float64\n 17  max_dedicacion_horaria_docente_id     48640 non-null  float64\n 18  institucion_cargo_docente_id          48640 non-null  float64\n 19  clase_cargo_docente_id                48640 non-null  float64\n 20  tipo_condicion_docente_id             48640 non-null  float64\ndtypes: float64(6), int64(14), object(1)\nmemory usage: 11.0+ MB\n"
     ]
    }
   ],
   "source": [
    "personas.info()\n",
    "#vemos que desde la columna de persona_id hasta la de senitority_level no hay datos nulos\n",
    "#en las otras columna hay 68552 - 48640 datos nulos = 19.912\n"
   ]
  },
  {
   "cell_type": "code",
   "execution_count": 24,
   "metadata": {},
   "outputs": [
    {
     "output_type": "execute_result",
     "data": {
      "text/plain": [
       "       persona_id   anio  sexo_id   edad  maximo_grado_academico_id  \\\n",
       "0           False  False    False  False                      False   \n",
       "1           False  False    False  False                      False   \n",
       "2           False  False    False  False                      False   \n",
       "3           False  False    False  False                      False   \n",
       "4           False  False    False  False                      False   \n",
       "...           ...    ...      ...    ...                        ...   \n",
       "68547       False  False    False  False                      False   \n",
       "68548       False  False    False  False                      False   \n",
       "68549       False  False    False  False                      False   \n",
       "68550       False  False    False  False                      False   \n",
       "68551       False  False    False  False                      False   \n",
       "\n",
       "       disciplina_maximo_grado_academico_id  disciplina_titulo_grado_id  \\\n",
       "0                                     False                       False   \n",
       "1                                     False                       False   \n",
       "2                                     False                       False   \n",
       "3                                     False                       False   \n",
       "4                                     False                       False   \n",
       "...                                     ...                         ...   \n",
       "68547                                 False                       False   \n",
       "68548                                 False                       False   \n",
       "68549                                 False                       False   \n",
       "68550                                 False                       False   \n",
       "68551                                 False                       False   \n",
       "\n",
       "       disciplina_experticia_id  tipo_personal_id  producciones_ult_anio  ...  \\\n",
       "0                         False             False                  False  ...   \n",
       "1                         False             False                  False  ...   \n",
       "2                         False             False                  False  ...   \n",
       "3                         False             False                  False  ...   \n",
       "4                         False             False                  False  ...   \n",
       "...                         ...               ...                    ...  ...   \n",
       "68547                     False             False                  False  ...   \n",
       "68548                     False             False                  False  ...   \n",
       "68549                     False             False                  False  ...   \n",
       "68550                     False             False                  False  ...   \n",
       "68551                     False             False                  False  ...   \n",
       "\n",
       "       producciones_ult_3_anios  producciones_ult_4_anios  \\\n",
       "0                         False                     False   \n",
       "1                         False                     False   \n",
       "2                         False                     False   \n",
       "3                         False                     False   \n",
       "4                         False                     False   \n",
       "...                         ...                       ...   \n",
       "68547                     False                     False   \n",
       "68548                     False                     False   \n",
       "68549                     False                     False   \n",
       "68550                     False                     False   \n",
       "68551                     False                     False   \n",
       "\n",
       "       institucion_trabajo_id  seniority_level  categoria_conicet_id  \\\n",
       "0                       False            False                 False   \n",
       "1                       False            False                 False   \n",
       "2                       False            False                  True   \n",
       "3                       False            False                 False   \n",
       "4                       False            False                 False   \n",
       "...                       ...              ...                   ...   \n",
       "68547                   False            False                  True   \n",
       "68548                   False            False                  True   \n",
       "68549                   False            False                  True   \n",
       "68550                   False            False                  True   \n",
       "68551                   False            False                  True   \n",
       "\n",
       "       categoria_incentivos  max_dedicacion_horaria_docente_id  \\\n",
       "0                     False                              False   \n",
       "1                     False                              False   \n",
       "2                      True                               True   \n",
       "3                     False                              False   \n",
       "4                     False                              False   \n",
       "...                     ...                                ...   \n",
       "68547                  True                               True   \n",
       "68548                  True                               True   \n",
       "68549                  True                               True   \n",
       "68550                  True                               True   \n",
       "68551                  True                               True   \n",
       "\n",
       "       institucion_cargo_docente_id  clase_cargo_docente_id  \\\n",
       "0                             False                   False   \n",
       "1                             False                   False   \n",
       "2                              True                    True   \n",
       "3                             False                   False   \n",
       "4                             False                   False   \n",
       "...                             ...                     ...   \n",
       "68547                          True                    True   \n",
       "68548                          True                    True   \n",
       "68549                          True                    True   \n",
       "68550                          True                    True   \n",
       "68551                          True                    True   \n",
       "\n",
       "       tipo_condicion_docente_id  \n",
       "0                          False  \n",
       "1                          False  \n",
       "2                           True  \n",
       "3                          False  \n",
       "4                          False  \n",
       "...                          ...  \n",
       "68547                       True  \n",
       "68548                       True  \n",
       "68549                       True  \n",
       "68550                       True  \n",
       "68551                       True  \n",
       "\n",
       "[68552 rows x 21 columns]"
      ],
      "text/html": "<div>\n<style scoped>\n    .dataframe tbody tr th:only-of-type {\n        vertical-align: middle;\n    }\n\n    .dataframe tbody tr th {\n        vertical-align: top;\n    }\n\n    .dataframe thead th {\n        text-align: right;\n    }\n</style>\n<table border=\"1\" class=\"dataframe\">\n  <thead>\n    <tr style=\"text-align: right;\">\n      <th></th>\n      <th>persona_id</th>\n      <th>anio</th>\n      <th>sexo_id</th>\n      <th>edad</th>\n      <th>maximo_grado_academico_id</th>\n      <th>disciplina_maximo_grado_academico_id</th>\n      <th>disciplina_titulo_grado_id</th>\n      <th>disciplina_experticia_id</th>\n      <th>tipo_personal_id</th>\n      <th>producciones_ult_anio</th>\n      <th>...</th>\n      <th>producciones_ult_3_anios</th>\n      <th>producciones_ult_4_anios</th>\n      <th>institucion_trabajo_id</th>\n      <th>seniority_level</th>\n      <th>categoria_conicet_id</th>\n      <th>categoria_incentivos</th>\n      <th>max_dedicacion_horaria_docente_id</th>\n      <th>institucion_cargo_docente_id</th>\n      <th>clase_cargo_docente_id</th>\n      <th>tipo_condicion_docente_id</th>\n    </tr>\n  </thead>\n  <tbody>\n    <tr>\n      <th>0</th>\n      <td>False</td>\n      <td>False</td>\n      <td>False</td>\n      <td>False</td>\n      <td>False</td>\n      <td>False</td>\n      <td>False</td>\n      <td>False</td>\n      <td>False</td>\n      <td>False</td>\n      <td>...</td>\n      <td>False</td>\n      <td>False</td>\n      <td>False</td>\n      <td>False</td>\n      <td>False</td>\n      <td>False</td>\n      <td>False</td>\n      <td>False</td>\n      <td>False</td>\n      <td>False</td>\n    </tr>\n    <tr>\n      <th>1</th>\n      <td>False</td>\n      <td>False</td>\n      <td>False</td>\n      <td>False</td>\n      <td>False</td>\n      <td>False</td>\n      <td>False</td>\n      <td>False</td>\n      <td>False</td>\n      <td>False</td>\n      <td>...</td>\n      <td>False</td>\n      <td>False</td>\n      <td>False</td>\n      <td>False</td>\n      <td>False</td>\n      <td>False</td>\n      <td>False</td>\n      <td>False</td>\n      <td>False</td>\n      <td>False</td>\n    </tr>\n    <tr>\n      <th>2</th>\n      <td>False</td>\n      <td>False</td>\n      <td>False</td>\n      <td>False</td>\n      <td>False</td>\n      <td>False</td>\n      <td>False</td>\n      <td>False</td>\n      <td>False</td>\n      <td>False</td>\n      <td>...</td>\n      <td>False</td>\n      <td>False</td>\n      <td>False</td>\n      <td>False</td>\n      <td>True</td>\n      <td>True</td>\n      <td>True</td>\n      <td>True</td>\n      <td>True</td>\n      <td>True</td>\n    </tr>\n    <tr>\n      <th>3</th>\n      <td>False</td>\n      <td>False</td>\n      <td>False</td>\n      <td>False</td>\n      <td>False</td>\n      <td>False</td>\n      <td>False</td>\n      <td>False</td>\n      <td>False</td>\n      <td>False</td>\n      <td>...</td>\n      <td>False</td>\n      <td>False</td>\n      <td>False</td>\n      <td>False</td>\n      <td>False</td>\n      <td>False</td>\n      <td>False</td>\n      <td>False</td>\n      <td>False</td>\n      <td>False</td>\n    </tr>\n    <tr>\n      <th>4</th>\n      <td>False</td>\n      <td>False</td>\n      <td>False</td>\n      <td>False</td>\n      <td>False</td>\n      <td>False</td>\n      <td>False</td>\n      <td>False</td>\n      <td>False</td>\n      <td>False</td>\n      <td>...</td>\n      <td>False</td>\n      <td>False</td>\n      <td>False</td>\n      <td>False</td>\n      <td>False</td>\n      <td>False</td>\n      <td>False</td>\n      <td>False</td>\n      <td>False</td>\n      <td>False</td>\n    </tr>\n    <tr>\n      <th>...</th>\n      <td>...</td>\n      <td>...</td>\n      <td>...</td>\n      <td>...</td>\n      <td>...</td>\n      <td>...</td>\n      <td>...</td>\n      <td>...</td>\n      <td>...</td>\n      <td>...</td>\n      <td>...</td>\n      <td>...</td>\n      <td>...</td>\n      <td>...</td>\n      <td>...</td>\n      <td>...</td>\n      <td>...</td>\n      <td>...</td>\n      <td>...</td>\n      <td>...</td>\n      <td>...</td>\n    </tr>\n    <tr>\n      <th>68547</th>\n      <td>False</td>\n      <td>False</td>\n      <td>False</td>\n      <td>False</td>\n      <td>False</td>\n      <td>False</td>\n      <td>False</td>\n      <td>False</td>\n      <td>False</td>\n      <td>False</td>\n      <td>...</td>\n      <td>False</td>\n      <td>False</td>\n      <td>False</td>\n      <td>False</td>\n      <td>True</td>\n      <td>True</td>\n      <td>True</td>\n      <td>True</td>\n      <td>True</td>\n      <td>True</td>\n    </tr>\n    <tr>\n      <th>68548</th>\n      <td>False</td>\n      <td>False</td>\n      <td>False</td>\n      <td>False</td>\n      <td>False</td>\n      <td>False</td>\n      <td>False</td>\n      <td>False</td>\n      <td>False</td>\n      <td>False</td>\n      <td>...</td>\n      <td>False</td>\n      <td>False</td>\n      <td>False</td>\n      <td>False</td>\n      <td>True</td>\n      <td>True</td>\n      <td>True</td>\n      <td>True</td>\n      <td>True</td>\n      <td>True</td>\n    </tr>\n    <tr>\n      <th>68549</th>\n      <td>False</td>\n      <td>False</td>\n      <td>False</td>\n      <td>False</td>\n      <td>False</td>\n      <td>False</td>\n      <td>False</td>\n      <td>False</td>\n      <td>False</td>\n      <td>False</td>\n      <td>...</td>\n      <td>False</td>\n      <td>False</td>\n      <td>False</td>\n      <td>False</td>\n      <td>True</td>\n      <td>True</td>\n      <td>True</td>\n      <td>True</td>\n      <td>True</td>\n      <td>True</td>\n    </tr>\n    <tr>\n      <th>68550</th>\n      <td>False</td>\n      <td>False</td>\n      <td>False</td>\n      <td>False</td>\n      <td>False</td>\n      <td>False</td>\n      <td>False</td>\n      <td>False</td>\n      <td>False</td>\n      <td>False</td>\n      <td>...</td>\n      <td>False</td>\n      <td>False</td>\n      <td>False</td>\n      <td>False</td>\n      <td>True</td>\n      <td>True</td>\n      <td>True</td>\n      <td>True</td>\n      <td>True</td>\n      <td>True</td>\n    </tr>\n    <tr>\n      <th>68551</th>\n      <td>False</td>\n      <td>False</td>\n      <td>False</td>\n      <td>False</td>\n      <td>False</td>\n      <td>False</td>\n      <td>False</td>\n      <td>False</td>\n      <td>False</td>\n      <td>False</td>\n      <td>...</td>\n      <td>False</td>\n      <td>False</td>\n      <td>False</td>\n      <td>False</td>\n      <td>True</td>\n      <td>True</td>\n      <td>True</td>\n      <td>True</td>\n      <td>True</td>\n      <td>True</td>\n    </tr>\n  </tbody>\n</table>\n<p>68552 rows × 21 columns</p>\n</div>"
     },
     "metadata": {},
     "execution_count": 24
    }
   ],
   "source": [
    "personas.isnull() #cada colum true = valor nulo, false = valor no nulo"
   ]
  },
  {
   "cell_type": "code",
   "execution_count": 25,
   "metadata": {},
   "outputs": [
    {
     "output_type": "execute_result",
     "data": {
      "text/plain": [
       "persona_id                                  0\n",
       "anio                                        0\n",
       "sexo_id                                     0\n",
       "edad                                        0\n",
       "maximo_grado_academico_id                   0\n",
       "disciplina_maximo_grado_academico_id        0\n",
       "disciplina_titulo_grado_id                  0\n",
       "disciplina_experticia_id                    0\n",
       "tipo_personal_id                            0\n",
       "producciones_ult_anio                       0\n",
       "producciones_ult_2_anios                    0\n",
       "producciones_ult_3_anios                    0\n",
       "producciones_ult_4_anios                    0\n",
       "institucion_trabajo_id                      0\n",
       "seniority_level                             0\n",
       "categoria_conicet_id                    19912\n",
       "categoria_incentivos                    19912\n",
       "max_dedicacion_horaria_docente_id       19912\n",
       "institucion_cargo_docente_id            19912\n",
       "clase_cargo_docente_id                  19912\n",
       "tipo_condicion_docente_id               19912\n",
       "dtype: int64"
      ]
     },
     "metadata": {},
     "execution_count": 25
    }
   ],
   "source": [
    "personas.isnull().sum() #cant de valores nulos para cada columna"
   ]
  },
  {
   "cell_type": "code",
   "execution_count": 26,
   "metadata": {},
   "outputs": [
    {
     "output_type": "execute_result",
     "data": {
      "text/plain": [
       "persona_id                              68552\n",
       "anio                                    68552\n",
       "sexo_id                                 68552\n",
       "edad                                    68552\n",
       "maximo_grado_academico_id               68552\n",
       "disciplina_maximo_grado_academico_id    68552\n",
       "disciplina_titulo_grado_id              68552\n",
       "disciplina_experticia_id                68552\n",
       "tipo_personal_id                        68552\n",
       "producciones_ult_anio                   68552\n",
       "producciones_ult_2_anios                68552\n",
       "producciones_ult_3_anios                68552\n",
       "producciones_ult_4_anios                68552\n",
       "institucion_trabajo_id                  68552\n",
       "seniority_level                         68552\n",
       "categoria_conicet_id                    48640\n",
       "categoria_incentivos                    48640\n",
       "max_dedicacion_horaria_docente_id       48640\n",
       "institucion_cargo_docente_id            48640\n",
       "clase_cargo_docente_id                  48640\n",
       "tipo_condicion_docente_id               48640\n",
       "dtype: int64"
      ]
     },
     "metadata": {},
     "execution_count": 26
    }
   ],
   "source": [
    "personas.notnull().sum() #tot sum de valores  no nulos"
   ]
  },
  {
   "cell_type": "code",
   "execution_count": 28,
   "metadata": {},
   "outputs": [
    {
     "output_type": "execute_result",
     "data": {
      "text/plain": [
       "persona_id                                  0\n",
       "anio                                        0\n",
       "sexo_id                                     0\n",
       "edad                                        0\n",
       "maximo_grado_academico_id                   0\n",
       "disciplina_maximo_grado_academico_id        0\n",
       "disciplina_titulo_grado_id                  0\n",
       "disciplina_experticia_id                    0\n",
       "tipo_personal_id                            0\n",
       "producciones_ult_anio                       0\n",
       "producciones_ult_2_anios                    0\n",
       "producciones_ult_3_anios                    0\n",
       "producciones_ult_4_anios                    0\n",
       "institucion_trabajo_id                      0\n",
       "seniority_level                             0\n",
       "categoria_conicet_id                    19912\n",
       "categoria_incentivos                    19912\n",
       "max_dedicacion_horaria_docente_id       19912\n",
       "institucion_cargo_docente_id            19912\n",
       "clase_cargo_docente_id                  19912\n",
       "tipo_condicion_docente_id               19912\n",
       "dtype: int64"
      ]
     },
     "metadata": {},
     "execution_count": 28
    }
   ],
   "source": [
    "personas.isna().sum()"
   ]
  },
  {
   "cell_type": "code",
   "execution_count": 27,
   "metadata": {},
   "outputs": [
    {
     "output_type": "execute_result",
     "data": {
      "text/plain": [
       "persona_id                              68552\n",
       "anio                                    68552\n",
       "sexo_id                                 68552\n",
       "edad                                    68552\n",
       "maximo_grado_academico_id               68552\n",
       "disciplina_maximo_grado_academico_id    68552\n",
       "disciplina_titulo_grado_id              68552\n",
       "disciplina_experticia_id                68552\n",
       "tipo_personal_id                        68552\n",
       "producciones_ult_anio                   68552\n",
       "producciones_ult_2_anios                68552\n",
       "producciones_ult_3_anios                68552\n",
       "producciones_ult_4_anios                68552\n",
       "institucion_trabajo_id                  68552\n",
       "seniority_level                         68552\n",
       "categoria_conicet_id                    48640\n",
       "categoria_incentivos                    48640\n",
       "max_dedicacion_horaria_docente_id       48640\n",
       "institucion_cargo_docente_id            48640\n",
       "clase_cargo_docente_id                  48640\n",
       "tipo_condicion_docente_id               48640\n",
       "dtype: int64"
      ]
     },
     "metadata": {},
     "execution_count": 27
    }
   ],
   "source": [
    "personas.notna().sum()"
   ]
  },
  {
   "cell_type": "code",
   "execution_count": null,
   "metadata": {},
   "outputs": [],
   "source": [
    "\n",
    "import matplotlib.pyplot as plt\n",
    "sns.heatmap(personas.isnull(), cmap='viridis')"
   ]
  },
  {
   "cell_type": "code",
   "execution_count": null,
   "metadata": {},
   "outputs": [],
   "source": [
    "#Desafío II: Calcular el porcentaje del total de datos, \n",
    "#representan los datos nulos de cada columna (variable)\n"
   ]
  },
  {
   "cell_type": "code",
   "execution_count": null,
   "metadata": {},
   "outputs": [],
   "source": [
    " personas.isnull().sum() / len(personas.persona_id) * 100"
   ]
  },
  {
   "cell_type": "code",
   "execution_count": null,
   "metadata": {},
   "outputs": [],
   "source": [
    "# Desafío III: Escribí el código que usarías para reemplazar los faltantes\n",
    "#por la moda y por la mediana.\n",
    "#Para pensar : ¿Cuál son la media, moda y mediana? ¿Y los cuantiles?\n"
   ]
  },
  {
   "cell_type": "code",
   "execution_count": null,
   "metadata": {},
   "outputs": [],
   "source": [
    "clean3.fillna(clean3['disciplina_maximo_grado_academico_id'].mean(), inplace=True)\n",
    "clean3.fillna(clean3['disciplina_maximo_grado_academico_id'].median(), inplace=True)\n",
    "clean3"
   ]
  },
  {
   "cell_type": "code",
   "execution_count": null,
   "metadata": {},
   "outputs": [],
   "source": []
  }
 ]
}